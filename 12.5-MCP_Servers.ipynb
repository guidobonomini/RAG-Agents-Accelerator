{
 "cells": [
  {
   "cell_type": "markdown",
   "metadata": {},
   "source": [
    "# Model Context Protocol (MCP) Servers - Building AI Travel Agents\n",
    "\n",
    "In this notebook, we'll explore the **Model Context Protocol (MCP)** - a powerful standard for connecting AI assistants to external data sources and tools. We'll build a comprehensive travel booking system that demonstrates:\n",
    "\n",
    "1. **MCP Server Implementation** - Using FastMCP to create a travel booking server similar to Amadeus\n",
    "2. **AI Travel Agent** - An intelligent agent that uses the MCP server for flight searches and bookings\n",
    "3. **Integration** - How MCP servers connect with LangGraph agents for complex workflows\n",
    "\n",
    "## What is MCP?\n",
    "\n",
    "The Model Context Protocol (MCP) is an open standard that enables AI assistants to securely connect to external data sources and tools. Instead of requiring custom integrations for each data source, MCP provides:\n",
    "\n",
    "- **Standardized Communication** - Uniform way for AI models to interact with external services\n",
    "- **Security** - Controlled access to sensitive data and operations\n",
    "- **Extensibility** - Easy addition of new capabilities through MCP servers\n",
    "- **Tool Integration** - Native support for function calling and tool usage\n",
    "\n",
    "## Architecture Overview\n",
    "\n",
    "Our travel booking system will consist of:\n",
    "\n",
    "```\n",
    "┌─────────────────────┐    ┌─────────────────────┐    ┌─────────────────────┐\n",
    "│   Supervisor        │    │   Travel Agent      │    │   MCP Server        │\n",
    "│   Agent             │◄──►│   (LangGraph)       │◄──►│   (FastMCP)         │\n",
    "│                     │    │                     │    │                     │\n",
    "│ - Route requests    │    │ - Flight search     │    │ - Flight API        │\n",
    "│ - Coordinate tasks  │    │ - Booking logic     │    │ - Hotel API         │\n",
    "│ - Manage workflow   │    │ - Price comparison  │    │ - Car rental API    │\n",
    "└─────────────────────┘    └─────────────────────┘    └─────────────────────┘\n",
    "```"
   ]
  },
  {
   "cell_type": "markdown",
   "metadata": {},
   "source": [
    "## Setup and Imports"
   ]
  },
  {
   "cell_type": "code",
   "execution_count": 1,
   "metadata": {},
   "outputs": [],
   "source": [
    "import os\n",
    "import json\n",
    "import uuid\n",
    "import asyncio\n",
    "import logging\n",
    "from datetime import datetime, timedelta\n",
    "from typing import List, Dict, Optional, Any\n",
    "from pydantic import BaseModel, Field\n",
    "\n",
    "# FastMCP for MCP server implementation\n",
    "from fastmcp import FastMCP\n",
    "from fastmcp.tools import Tool\n",
    "from fastmcp.resources import Resource\n",
    "\n",
    "# LangChain and LangGraph for AI agents\n",
    "from langchain_openai import AzureChatOpenAI\n",
    "from langchain_core.messages import HumanMessage, AIMessage, SystemMessage\n",
    "from langchain_core.prompts import ChatPromptTemplate, MessagesPlaceholder\n",
    "from langgraph.graph import StateGraph, END, START\n",
    "from langgraph.graph.message import AnyMessage, add_messages\n",
    "from langgraph.checkpoint.memory import MemorySaver\n",
    "from typing_extensions import TypedDict, Annotated\n",
    "\n",
    "# Load environment variables\n",
    "from dotenv import load_dotenv\n",
    "load_dotenv(\"credentials.env\")\n",
    "\n",
    "# Display utilities\n",
    "from IPython.display import Image, Markdown, display\n",
    "import re\n",
    "\n",
    "def printmd(string):\n",
    "    clean_content = re.sub(r'^```markdown\\n', '', string)\n",
    "    clean_content = re.sub(r'^```\\n', '', clean_content)\n",
    "    clean_content = re.sub(r'\\n```$', '', clean_content)\n",
    "    clean_content = clean_content.replace('$', r'\\$')\n",
    "    display(Markdown(clean_content))"
   ]
  },
  {
   "cell_type": "code",
   "execution_count": 2,
   "metadata": {},
   "outputs": [],
   "source": [
    "# Configure Azure OpenAI\n",
    "os.environ[\"OPENAI_API_VERSION\"] = os.environ[\"AZURE_OPENAI_API_VERSION\"]\n",
    "\n",
    "COMPLETION_TOKENS = 2000\n",
    "llm = AzureChatOpenAI(\n",
    "    deployment_name=os.environ[\"GPT4o_DEPLOYMENT_NAME\"], \n",
    "    temperature=0, \n",
    "    max_tokens=COMPLETION_TOKENS, \n",
    "    streaming=True\n",
    ")"
   ]
  },
  {
   "cell_type": "markdown",
   "metadata": {},
   "source": [
    "## Part 1: Building the MCP Travel Server with FastMCP\n",
    "\n",
    "We'll start by creating an MCP server that provides travel booking capabilities similar to what you'd find in services like Amadeus. Our server will offer:\n",
    "\n",
    "- Flight search and booking\n",
    "- Hotel search and booking  \n",
    "- Car rental search and booking\n",
    "- Trip management\n",
    "\n",
    "### Data Models\n",
    "\n",
    "First, let's define the data structures for our travel services:"
   ]
  },
  {
   "cell_type": "code",
   "execution_count": 3,
   "metadata": {},
   "outputs": [
    {
     "name": "stdout",
     "output_type": "stream",
     "text": [
      "✅ Data models defined successfully\n"
     ]
    }
   ],
   "source": [
    "# Data models for travel services\n",
    "class FlightSearchRequest(BaseModel):\n",
    "    origin: str = Field(description=\"Origin airport code (e.g., 'JFK')\")\n",
    "    destination: str = Field(description=\"Destination airport code (e.g., 'LAX')\")\n",
    "    departure_date: str = Field(description=\"Departure date in YYYY-MM-DD format\")\n",
    "    return_date: Optional[str] = Field(None, description=\"Return date for round trip\")\n",
    "    passengers: int = Field(1, description=\"Number of passengers\")\n",
    "    class_type: str = Field(\"economy\", description=\"Flight class: economy, business, first\")\n",
    "\n",
    "class Flight(BaseModel):\n",
    "    flight_id: str\n",
    "    airline: str\n",
    "    flight_number: str\n",
    "    origin: str\n",
    "    destination: str\n",
    "    departure_time: str\n",
    "    arrival_time: str\n",
    "    duration: str\n",
    "    price: float\n",
    "    currency: str = \"USD\"\n",
    "    class_type: str\n",
    "    available_seats: int\n",
    "\n",
    "class HotelSearchRequest(BaseModel):\n",
    "    location: str = Field(description=\"City or area to search for hotels\")\n",
    "    check_in: str = Field(description=\"Check-in date in YYYY-MM-DD format\")\n",
    "    check_out: str = Field(description=\"Check-out date in YYYY-MM-DD format\")\n",
    "    guests: int = Field(1, description=\"Number of guests\")\n",
    "    rooms: int = Field(1, description=\"Number of rooms\")\n",
    "\n",
    "class Hotel(BaseModel):\n",
    "    hotel_id: str\n",
    "    name: str\n",
    "    location: str\n",
    "    star_rating: int\n",
    "    price_per_night: float\n",
    "    currency: str = \"USD\"\n",
    "    amenities: List[str]\n",
    "    available_rooms: int\n",
    "    review_score: float\n",
    "\n",
    "class CarRentalRequest(BaseModel):\n",
    "    location: str = Field(description=\"Pickup location\")\n",
    "    pickup_date: str = Field(description=\"Pickup date in YYYY-MM-DD format\")\n",
    "    return_date: str = Field(description=\"Return date in YYYY-MM-DD format\")\n",
    "    car_type: str = Field(\"economy\", description=\"Car type: economy, compact, midsize, luxury\")\n",
    "\n",
    "class CarRental(BaseModel):\n",
    "    rental_id: str\n",
    "    company: str\n",
    "    car_model: str\n",
    "    car_type: str\n",
    "    location: str\n",
    "    price_per_day: float\n",
    "    currency: str = \"USD\"\n",
    "    features: List[str]\n",
    "    available: bool\n",
    "\n",
    "class BookingRequest(BaseModel):\n",
    "    item_id: str = Field(description=\"ID of the flight, hotel, or car to book\")\n",
    "    item_type: str = Field(description=\"Type of booking: flight, hotel, car\")\n",
    "    customer_info: Dict[str, Any] = Field(description=\"Customer information\")\n",
    "\n",
    "class Booking(BaseModel):\n",
    "    booking_id: str\n",
    "    item_type: str\n",
    "    item_id: str\n",
    "    customer_info: Dict[str, Any]\n",
    "    status: str\n",
    "    booking_date: str\n",
    "    total_price: float\n",
    "    currency: str = \"USD\"\n",
    "\n",
    "print(\"✅ Data models defined successfully\")"
   ]
  },
  {
   "cell_type": "markdown",
   "metadata": {},
   "source": [
    "## 🔄 **Real Amadeus API Integration - Step by Step**\n",
    "\n",
    "This section demonstrates the complete integration of a **real Amadeus Travel API** with our MCP server, replacing all mock data with authentic travel information.\n",
    "\n",
    "### **What We're Implementing:**\n",
    "\n",
    "1. **🔐 Real API Authentication**\n",
    "   - OAuth2 client credentials flow\n",
    "   - Automatic token refresh mechanism\n",
    "   - Secure credential management from `credentials.env`\n",
    "\n",
    "2. **🌐 Live Amadeus API Client**\n",
    "   - Direct connection to Amadeus Test API\n",
    "   - Real-time flight search and pricing\n",
    "   - Actual hotel availability and rates\n",
    "   - Authentic airport and airline data\n",
    "\n",
    "\n",
    "### **Key Implementation Steps:**\n",
    "\n",
    "**Step 1: Amadeus Client Setup**\n",
    "- Configure API credentials from environment variables\n",
    "- Implement OAuth2 token management\n",
    "- Create authenticated request handler\n",
    "- Add comprehensive error handling\n",
    "\n",
    "**Step 2: Setup MCP Server with tools based off the Amadeus Client**\n",
    "- `search_flights`: Real flight search with Amadeus Flight Offers API\n",
    "- `search_hotels`: Live hotel search with current availability\n",
    "- `search_airports`: IATA airport lookup with coordinates\n",
    "- `get_airline_info`: Official airline information\n",
    "- `create_flight_booking`: Book flight\n",
    "- `get_city_info`: Get city information\n",
    "- `check_flight_status`: Official flight status\n",
    "\n",
    "**Step 3: Production-Ready Features**\n",
    "- Rate limiting awareness\n",
    "- Comprehensive error handling\n",
    "- Logging and monitoring\n",
    "- Security best practices"
   ]
  },
  {
   "cell_type": "code",
   "execution_count": 5,
   "metadata": {},
   "outputs": [
    {
     "name": "stdout",
     "output_type": "stream",
     "text": [
      "✅ Real Amadeus API client initialized successfully\n",
      "Environment: TEST\n",
      "API Key: 5SK7r1YbvP...\n"
     ]
    },
    {
     "name": "stderr",
     "output_type": "stream",
     "text": [
      "INFO:__main__:Successfully obtained Amadeus access token\n"
     ]
    },
    {
     "name": "stdout",
     "output_type": "stream",
     "text": [
      "✅ Successfully connected to Amadeus API\n",
      "Token obtained: GIoDRBGVKJ46VYikYdwP...\n",
      "Base URL: https://test.api.amadeus.com\n"
     ]
    }
   ],
   "source": [
    "# ================== Real Amadeus API Client Implementation ==================\n",
    "# Replace mock data with actual Amadeus API integration\n",
    "\n",
    "import requests\n",
    "from dotenv import load_dotenv\n",
    "\n",
    "# Configure logging\n",
    "logging.basicConfig(level=logging.INFO)\n",
    "logger = logging.getLogger(__name__)\n",
    "\n",
    "\n",
    "# Load environment variables\n",
    "load_dotenv(\"credentials.env\")\n",
    "\n",
    "# Amadeus API Configuration\n",
    "AMADEUS_API_KEY = os.getenv(\"AMADEUS_API_KEY\")\n",
    "AMADEUS_API_SECRET = os.getenv(\"AMADEUS_API_SECRET\")\n",
    "AMADEUS_BASE_URL = \"https://api.amadeus.com\"\n",
    "AMADEUS_TEST_BASE_URL = \"https://test.api.amadeus.com\"  # Use test environment\n",
    "\n",
    "# We'll use the test environment for development\n",
    "BASE_URL = AMADEUS_TEST_BASE_URL\n",
    "\n",
    "class AmadeusClient:\n",
    "    \"\"\"Client for interacting with Amadeus API\"\"\"\n",
    "\n",
    "    def __init__(self):\n",
    "        self.api_key = \"5SK7r1YbvPacpnprO9pJt4VGEpwaSQZO\"\n",
    "        self.api_secret = \"dmavJiUlrGIbMZTh\"\n",
    "        self.base_url = BASE_URL\n",
    "        self.access_token = None\n",
    "        self.token_expiry = None\n",
    "\n",
    "    def get_access_token(self):\n",
    "        \"\"\"Get or refresh access token for Amadeus API\"\"\"\n",
    "        # Check if token is still valid\n",
    "        if self.access_token and self.token_expiry:\n",
    "            if datetime.now() < self.token_expiry:\n",
    "                return self.access_token\n",
    "\n",
    "        # Get new token\n",
    "        url = f\"{self.base_url}/v1/security/oauth2/token\"\n",
    "        headers = {\n",
    "            \"Content-Type\": \"application/x-www-form-urlencoded\"\n",
    "        }\n",
    "        data = {\n",
    "            \"grant_type\": \"client_credentials\",\n",
    "            \"client_id\": self.api_key,\n",
    "            \"client_secret\": self.api_secret\n",
    "        }\n",
    "\n",
    "        try:\n",
    "            response = requests.post(url, headers=headers, data=data)\n",
    "            response.raise_for_status()\n",
    "\n",
    "            token_data = response.json()\n",
    "            self.access_token = token_data[\"access_token\"]\n",
    "            # Set expiry with 5 minute buffer\n",
    "            expires_in = token_data.get(\"expires_in\", 1799)\n",
    "            self.token_expiry = datetime.now() + timedelta(seconds=expires_in - 300)\n",
    "\n",
    "            logger.info(\"Successfully obtained Amadeus access token\")\n",
    "            return self.access_token\n",
    "\n",
    "        except requests.exceptions.RequestException as e:\n",
    "            logger.error(f\"Failed to get access token: {e}\")\n",
    "            raise\n",
    "\n",
    "    def make_request(self, endpoint: str, method: str = \"GET\", params: Dict = None, data: Dict = None):\n",
    "        \"\"\"Make authenticated request to Amadeus API\"\"\"\n",
    "        token = self.get_access_token()\n",
    "\n",
    "        headers = {\n",
    "            \"Authorization\": f\"Bearer {token}\",\n",
    "            \"Content-Type\": \"application/json\"\n",
    "        }\n",
    "\n",
    "        url = f\"{self.base_url}{endpoint}\"\n",
    "\n",
    "        try:\n",
    "            if method == \"GET\":\n",
    "                response = requests.get(url, headers=headers, params=params)\n",
    "            elif method == \"POST\":\n",
    "                response = requests.post(url, headers=headers, json=data)\n",
    "            else:\n",
    "                raise ValueError(f\"Unsupported HTTP method: {method}\")\n",
    "\n",
    "            response.raise_for_status()\n",
    "            return response.json()\n",
    "\n",
    "        except requests.exceptions.RequestException as e:\n",
    "            logger.error(f\"API request failed: {e}\")\n",
    "            if hasattr(e, 'response') and e.response is not None:\n",
    "                logger.error(f\"Response content: {e.response.text}\")\n",
    "            raise\n",
    "\n",
    "# Initialize Amadeus client\n",
    "amadeus_client = AmadeusClient()\n",
    "\n",
    "print(\"✅ Real Amadeus API client initialized successfully\")\n",
    "print(f\"Environment: {'TEST' if 'test' in BASE_URL else 'PRODUCTION'}\")\n",
    "print(f\"API Key: {AMADEUS_API_KEY[:10]}...\" if AMADEUS_API_KEY else \"❌ No API Key found\")     \n",
    "\n",
    "# Test connection\n",
    "try:\n",
    "    token = amadeus_client.get_access_token()\n",
    "    print(\"✅ Successfully connected to Amadeus API\")\n",
    "    print(f\"Token obtained: {token[:20]}...\")\n",
    "    print(f\"Base URL: {BASE_URL}\")\n",
    "except Exception as e:\n",
    "    print(f\"❌ Failed to connect to Amadeus API: {e}\")\n",
    "    print(\"Please check your credentials in credentials.env file\")\n",
    "    print(\"Required variables: AMADEUS_API_KEY, AMADEUS_API_SECRET\")"
   ]
  },
  {
   "cell_type": "markdown",
   "metadata": {},
   "source": [
    "### FastMCP Server Implementation\n",
    "\n",
    "Now we'll create the MCP server using FastMCP. This server will expose our travel booking capabilities as standardized MCP tools:"
   ]
  },
  {
   "cell_type": "code",
   "execution_count": 6,
   "metadata": {},
   "outputs": [],
   "source": [
    "# Real Amadeus MCP Server Implementation\n",
    "# Create the FastMCP server with real Amadeus API integration\n",
    "\n",
    "# Create the FastMCP server\n",
    "mcp_server = FastMCP(name=\"amadeus-travel-server\")\n",
    "\n",
    "# ================== MCP Tool Implementations ==================\n",
    "\n",
    "@mcp_server.tool()\n",
    "def search_flights(\n",
    "    origin: str,\n",
    "    destination: str,\n",
    "    departure_date: str,\n",
    "    adults: int = 1,\n",
    "    children: int = 0,\n",
    "    infants: int = 0,\n",
    "    travel_class: str = \"ECONOMY\",\n",
    "    return_date: Optional[str] = None,\n",
    "    nonstop: bool = False,\n",
    "    currency: str = \"USD\",\n",
    "    max_results: int = 10\n",
    ") -> str:\n",
    "    \"\"\"Search for flights using Amadeus Flight Offers Search API.\n",
    "    \n",
    "    Args:\n",
    "        origin: Origin airport IATA code (e.g., 'JFK', 'LAX')\n",
    "        destination: Destination airport IATA code\n",
    "        departure_date: Departure date in YYYY-MM-DD format\n",
    "        adults: Number of adult passengers (12+ years)\n",
    "        children: Number of child passengers (2-11 years)\n",
    "        infants: Number of infant passengers (under 2 years)\n",
    "        travel_class: Travel class - ECONOMY, PREMIUM_ECONOMY, BUSINESS, or FIRST\n",
    "        return_date: Return date for round trip (optional, YYYY-MM-DD format)\n",
    "        nonstop: Only show nonstop flights if True\n",
    "        currency: Currency code for prices (default: USD)\n",
    "        max_results: Maximum number of results to return (default: 10)\n",
    "    \n",
    "    Returns:\n",
    "        JSON string with flight search results including prices, times, and availability\n",
    "    \"\"\"\n",
    "    try:\n",
    "        # Build query parameters\n",
    "        params = {\n",
    "            \"originLocationCode\": origin.upper(),\n",
    "            \"destinationLocationCode\": destination.upper(),\n",
    "            \"departureDate\": departure_date,\n",
    "            \"adults\": adults,\n",
    "            \"currencyCode\": currency,\n",
    "            \"max\": min(max_results, 250)  # Amadeus max is 250\n",
    "        }\n",
    "        \n",
    "        # Add optional parameters\n",
    "        if return_date:\n",
    "            params[\"returnDate\"] = return_date\n",
    "        \n",
    "        if children > 0:\n",
    "            params[\"children\"] = children\n",
    "            \n",
    "        if infants > 0:\n",
    "            params[\"infants\"] = infants\n",
    "        \n",
    "        if travel_class != \"ECONOMY\":\n",
    "            params[\"travelClass\"] = travel_class\n",
    "            \n",
    "        if nonstop:\n",
    "            params[\"nonStop\"] = \"true\"\n",
    "        \n",
    "        # Make API request\n",
    "        endpoint = \"/v2/shopping/flight-offers\"\n",
    "        response = amadeus_client.make_request(endpoint, params=params)\n",
    "        \n",
    "        # Process and format results\n",
    "        flights = response.get(\"data\", [])\n",
    "        \n",
    "        if not flights:\n",
    "            return json.dumps({\n",
    "                \"success\": False,\n",
    "                \"message\": \"No flights found for the specified criteria\",\n",
    "                \"search_params\": params\n",
    "            }, indent=2)\n",
    "        \n",
    "        # Return the original response with our formatted summary\n",
    "        result = {\n",
    "            \"success\": True,\n",
    "            \"count\": len(flights),\n",
    "            \"search_criteria\": {\n",
    "                \"origin\": origin,\n",
    "                \"destination\": destination,\n",
    "                \"departure_date\": departure_date,\n",
    "                \"return_date\": return_date,\n",
    "                \"passengers\": {\n",
    "                    \"adults\": adults,\n",
    "                    \"children\": children,\n",
    "                    \"infants\": infants\n",
    "                },\n",
    "                \"travel_class\": travel_class\n",
    "            },\n",
    "            \"flights\": flights[:max_results]  # Return original flight data for booking\n",
    "        }\n",
    "        \n",
    "        return json.dumps(result, indent=2)\n",
    "        \n",
    "    except Exception as e:\n",
    "        logger.error(f\"Flight search failed: {e}\")\n",
    "        return json.dumps({\n",
    "            \"success\": False,\n",
    "            \"error\": str(e),\n",
    "            \"message\": \"Failed to search flights. Please check your parameters and try again.\"\n",
    "        }, indent=2)\n",
    "\n",
    "@mcp_server.tool()\n",
    "def search_hotels(\n",
    "    city_code: str,\n",
    "    check_in: str,\n",
    "    check_out: str,\n",
    "    adults: int = 1,\n",
    "    room_quantity: int = 1,\n",
    "    radius: int = 5,\n",
    "    radius_unit: str = \"KM\",\n",
    "    amenities: Optional[List[str]] = None,\n",
    "    ratings: Optional[List[int]] = None,\n",
    "    hotel_name: Optional[str] = None,\n",
    "    price_range: Optional[str] = None,\n",
    "    currency: str = \"USD\"\n",
    ") -> str:\n",
    "    \"\"\"Search for hotels using Amadeus Hotel Search API.\n",
    "    \n",
    "    Args:\n",
    "        city_code: City IATA code (e.g., 'NYC', 'PAR', 'LON')\n",
    "        check_in: Check-in date in YYYY-MM-DD format\n",
    "        check_out: Check-out date in YYYY-MM-DD format\n",
    "        adults: Number of adult guests\n",
    "        room_quantity: Number of rooms needed\n",
    "        radius: Search radius from city center (default: 5)\n",
    "        radius_unit: Unit for radius - KM or MILE (default: KM)\n",
    "        amenities: List of required amenities (e.g., ['WIFI', 'PARKING', 'POOL'])\n",
    "        ratings: List of acceptable star ratings (1-5)\n",
    "        hotel_name: Search for specific hotel name (partial match)\n",
    "        price_range: Price range filter (e.g., '50-200')\n",
    "        currency: Currency code for prices (default: USD)\n",
    "    \n",
    "    Returns:\n",
    "        JSON string with hotel search results including prices, amenities, and availability\n",
    "    \"\"\"\n",
    "    try:\n",
    "        # First, get hotels by city\n",
    "        params = {\n",
    "            \"cityCode\": city_code.upper(),\n",
    "            \"radius\": radius,\n",
    "            \"radiusUnit\": radius_unit\n",
    "        }\n",
    "        \n",
    "        if ratings:\n",
    "            params[\"ratings\"] = \",\".join(map(str, ratings))\n",
    "        \n",
    "        if amenities:\n",
    "            params[\"amenities\"] = \",\".join(amenities)\n",
    "        \n",
    "        if hotel_name:\n",
    "            params[\"hotelName\"] = hotel_name\n",
    "        \n",
    "        # Get list of hotels\n",
    "        endpoint = \"/v1/reference-data/locations/hotels/by-city\"\n",
    "        hotels_response = amadeus_client.make_request(endpoint, params=params)\n",
    "        \n",
    "        hotels = hotels_response.get(\"data\", [])\n",
    "        \n",
    "        if not hotels:\n",
    "            return json.dumps({\n",
    "                \"success\": False,\n",
    "                \"message\": f\"No hotels found in {city_code}\",\n",
    "                \"search_params\": params\n",
    "            }, indent=2)\n",
    "        \n",
    "        # Get hotel IDs (limit to first 20 hotels)\n",
    "        hotel_ids = [hotel[\"hotelId\"] for hotel in hotels[:20]]\n",
    "        \n",
    "        # Now get hotel offers for these hotels\n",
    "        offers_params = {\n",
    "            \"hotelIds\": \",\".join(hotel_ids),\n",
    "            \"checkInDate\": check_in,\n",
    "            \"checkOutDate\": check_out,\n",
    "            \"adults\": adults,\n",
    "            \"roomQuantity\": room_quantity,\n",
    "            \"currency\": currency,\n",
    "            \"bestRateOnly\": \"true\"\n",
    "        }\n",
    "        \n",
    "        if price_range:\n",
    "            price_parts = price_range.split(\"-\")\n",
    "            if len(price_parts) == 2:\n",
    "                offers_params[\"priceRange\"] = price_range\n",
    "        \n",
    "        # Get hotel offers\n",
    "        endpoint = \"/v3/shopping/hotel-offers\"\n",
    "        offers_response = amadeus_client.make_request(endpoint, params=offers_params)\n",
    "        \n",
    "        hotel_offers = offers_response.get(\"data\", [])\n",
    "        \n",
    "        # Format results\n",
    "        formatted_hotels = []\n",
    "        for offer in hotel_offers:\n",
    "            hotel = offer.get(\"hotel\", {})\n",
    "            offers = offer.get(\"offers\", [])\n",
    "            \n",
    "            if offers:\n",
    "                best_offer = offers[0]  # Take the best rate\n",
    "                \n",
    "                formatted_hotel = {\n",
    "                    \"hotel_id\": hotel.get(\"hotelId\"),\n",
    "                    \"name\": hotel.get(\"name\"),\n",
    "                    \"chain_code\": hotel.get(\"chainCode\"),\n",
    "                    \"city_code\": hotel.get(\"cityCode\"),\n",
    "                    \"latitude\": hotel.get(\"latitude\"),\n",
    "                    \"longitude\": hotel.get(\"longitude\"),\n",
    "                    \"rating\": hotel.get(\"rating\"),\n",
    "                    \"amenities\": hotel.get(\"amenities\", []),\n",
    "                    \"description\": hotel.get(\"description\", {}),\n",
    "                    \"best_offer\": {\n",
    "                        \"id\": best_offer.get(\"id\"),\n",
    "                        \"check_in\": best_offer.get(\"checkInDate\"),\n",
    "                        \"check_out\": best_offer.get(\"checkOutDate\"),\n",
    "                        \"room\": {\n",
    "                            \"type\": best_offer.get(\"room\", {}).get(\"type\"),\n",
    "                            \"category\": best_offer.get(\"room\", {}).get(\"typeEstimated\", {}).get(\"category\"),\n",
    "                            \"beds\": best_offer.get(\"room\", {}).get(\"typeEstimated\", {}).get(\"beds\"),\n",
    "                            \"bed_type\": best_offer.get(\"room\", {}).get(\"typeEstimated\", {}).get(\"bedType\"),\n",
    "                            \"description\": best_offer.get(\"room\", {}).get(\"description\", {}).get(\"text\")\n",
    "                        },\n",
    "                        \"guests\": best_offer.get(\"guests\", {}),\n",
    "                        \"price\": {\n",
    "                            \"total\": best_offer.get(\"price\", {}).get(\"total\"),\n",
    "                            \"currency\": best_offer.get(\"price\", {}).get(\"currency\"),\n",
    "                            \"base\": best_offer.get(\"price\", {}).get(\"base\"),\n",
    "                            \"taxes\": best_offer.get(\"price\", {}).get(\"taxes\")\n",
    "                        },\n",
    "                        \"policies\": best_offer.get(\"policies\", {})\n",
    "                    }\n",
    "                }\n",
    "                formatted_hotels.append(formatted_hotel)\n",
    "        \n",
    "        result = {\n",
    "            \"success\": True,\n",
    "            \"count\": len(formatted_hotels),\n",
    "            \"search_criteria\": {\n",
    "                \"city_code\": city_code,\n",
    "                \"check_in\": check_in,\n",
    "                \"check_out\": check_out,\n",
    "                \"adults\": adults,\n",
    "                \"rooms\": room_quantity\n",
    "            },\n",
    "            \"hotels\": formatted_hotels\n",
    "        }\n",
    "        \n",
    "        return json.dumps(result, indent=2)\n",
    "        \n",
    "    except Exception as e:\n",
    "        logger.error(f\"Hotel search failed: {e}\")\n",
    "        return json.dumps({\n",
    "            \"success\": False,\n",
    "            \"error\": str(e),\n",
    "            \"message\": \"Failed to search hotels. Please check your parameters and try again.\"\n",
    "        }, indent=2)\n",
    "\n",
    "@mcp_server.tool()\n",
    "def get_flight_price(flight_offer: str) -> str:\n",
    "    \"\"\"Get confirmed price for a specific flight offer.\n",
    "    \n",
    "    Args:\n",
    "        flight_offer: The flight offer data (as JSON string) from search_flights\n",
    "    \n",
    "    Returns:\n",
    "        JSON string with confirmed pricing details\n",
    "    \"\"\"\n",
    "    try:\n",
    "        # Parse the flight offer\n",
    "        if isinstance(flight_offer, str):\n",
    "            offer_data = json.loads(flight_offer)\n",
    "        else:\n",
    "            offer_data = flight_offer\n",
    "        \n",
    "        # Make pricing request with the original offer data\n",
    "        endpoint = \"/v1/shopping/flight-offers/pricing\"\n",
    "        \n",
    "        pricing_request = {\n",
    "            \"data\": {\n",
    "                \"type\": \"flight-offers-pricing\",\n",
    "                \"flightOffers\": [offer_data]\n",
    "            }\n",
    "        }\n",
    "        \n",
    "        response = amadeus_client.make_request(endpoint, method=\"POST\", data=pricing_request)\n",
    "        \n",
    "        result = {\n",
    "            \"success\": True,\n",
    "            \"pricing\": response.get(\"data\", {})\n",
    "        }\n",
    "        \n",
    "        return json.dumps(result, indent=2)\n",
    "        \n",
    "    except Exception as e:\n",
    "        logger.error(f\"Flight pricing failed: {e}\")\n",
    "        return json.dumps({\n",
    "            \"success\": False,\n",
    "            \"error\": str(e),\n",
    "            \"message\": \"Failed to get flight pricing.\"\n",
    "        }, indent=2)\n",
    "\n",
    "@mcp_server.tool()\n",
    "def create_flight_booking(\n",
    "    flight_offer: str,\n",
    "    travelers: List[Dict[str, Any]],\n",
    "    contact: Dict[str, Any]\n",
    ") -> str:\n",
    "    \"\"\"Create a flight booking (in test environment only).\n",
    "    \n",
    "    Args:\n",
    "        flight_offer: The confirmed flight offer from get_flight_price\n",
    "        travelers: List of traveler information dictionaries with:\n",
    "            - id: Traveler ID (e.g., \"1\")\n",
    "            - dateOfBirth: Date of birth (YYYY-MM-DD)\n",
    "            - name: {firstName: str, lastName: str}\n",
    "            - gender: MALE or FEMALE\n",
    "            - contact: {emailAddress: str, phones: [{deviceType: str, countryCallingCode: str, number: str}]}\n",
    "            - documents: [{documentType: \"PASSPORT\", birthPlace: str, issuanceLocation: str, issuanceDate: str, number: str, expiryDate: str, issuanceCountry: str, validityCountry: str, nationality: str, holder: bool}]\n",
    "        contact: Contact information for the booking\n",
    "    \n",
    "    Returns:\n",
    "        JSON string with booking confirmation\n",
    "    \"\"\"\n",
    "    try:\n",
    "        # Note: In test environment, this will create a test booking\n",
    "        endpoint = \"/v1/booking/flight-orders\"\n",
    "        \n",
    "        booking_request = {\n",
    "            \"data\": {\n",
    "                \"type\": \"flight-order\",\n",
    "                \"flightOffers\": [json.loads(flight_offer) if isinstance(flight_offer, str) else flight_offer],\n",
    "                \"travelers\": travelers,\n",
    "                \"remarks\": {\n",
    "                    \"general\": [\n",
    "                        {\n",
    "                            \"subType\": \"GENERAL_MISCELLANEOUS\",\n",
    "                            \"text\": \"Booking created via MCP Travel Server\"\n",
    "                        }\n",
    "                    ]\n",
    "                },\n",
    "                \"ticketingAgreement\": {\n",
    "                    \"option\": \"DELAY_TO_CANCEL\",\n",
    "                    \"delay\": \"6D\"\n",
    "                },\n",
    "                \"contacts\": [contact]\n",
    "            }\n",
    "        }\n",
    "        \n",
    "        response = amadeus_client.make_request(endpoint, method=\"POST\", data=booking_request)\n",
    "        \n",
    "        result = {\n",
    "            \"success\": True,\n",
    "            \"booking\": response.get(\"data\", {}),\n",
    "            \"warnings\": response.get(\"warnings\", [])\n",
    "        }\n",
    "        \n",
    "        return json.dumps(result, indent=2)\n",
    "        \n",
    "    except Exception as e:\n",
    "        logger.error(f\"Flight booking failed: {e}\")\n",
    "        return json.dumps({\n",
    "            \"success\": False,\n",
    "            \"error\": str(e),\n",
    "            \"message\": \"Failed to create flight booking. This might be due to test environment limitations.\"\n",
    "        }, indent=2)\n",
    "\n",
    "@mcp_server.tool()\n",
    "def search_airports(\n",
    "    keyword: str,\n",
    "    country_code: Optional[str] = None\n",
    ") -> str:\n",
    "    \"\"\"Search for airports by keyword or location.\n",
    "    \n",
    "    Args:\n",
    "        keyword: Search keyword (city name, airport name, or code)\n",
    "        country_code: Optional 2-letter country code to filter results\n",
    "    \n",
    "    Returns:\n",
    "        JSON string with matching airports\n",
    "    \"\"\"\n",
    "    try:\n",
    "        params = {\n",
    "            \"keyword\": keyword,\n",
    "            \"max\": 10\n",
    "        }\n",
    "        \n",
    "        if country_code:\n",
    "            params[\"countryCode\"] = country_code.upper()\n",
    "        \n",
    "        endpoint = \"/v1/reference-data/locations\"\n",
    "        params[\"subType\"] = \"AIRPORT\"\n",
    "        \n",
    "        response = amadeus_client.make_request(endpoint, params=params)\n",
    "        \n",
    "        airports = response.get(\"data\", [])\n",
    "        \n",
    "        formatted_airports = []\n",
    "        for airport in airports:\n",
    "            formatted_airports.append({\n",
    "                \"iata_code\": airport.get(\"iataCode\"),\n",
    "                \"name\": airport.get(\"name\"),\n",
    "                \"city\": airport.get(\"address\", {}).get(\"cityName\"),\n",
    "                \"country\": airport.get(\"address\", {}).get(\"countryName\"),\n",
    "                \"country_code\": airport.get(\"address\", {}).get(\"countryCode\"),\n",
    "                \"latitude\": airport.get(\"geoCode\", {}).get(\"latitude\"),\n",
    "                \"longitude\": airport.get(\"geoCode\", {}).get(\"longitude\"),\n",
    "                \"timezone\": airport.get(\"timeZoneOffset\")\n",
    "            })\n",
    "        \n",
    "        result = {\n",
    "            \"success\": True,\n",
    "            \"count\": len(formatted_airports),\n",
    "            \"airports\": formatted_airports\n",
    "        }\n",
    "        \n",
    "        return json.dumps(result, indent=2)\n",
    "        \n",
    "    except Exception as e:\n",
    "        logger.error(f\"Airport search failed: {e}\")\n",
    "        return json.dumps({\n",
    "            \"success\": False,\n",
    "            \"error\": str(e),\n",
    "            \"message\": \"Failed to search airports.\"\n",
    "        }, indent=2)\n",
    "\n",
    "@mcp_server.tool()\n",
    "def get_city_info(\n",
    "    keyword: str\n",
    ") -> str:\n",
    "    \"\"\"Get information about a city for travel planning.\n",
    "    \n",
    "    Args:\n",
    "        keyword: City name or IATA code\n",
    "    \n",
    "    Returns:\n",
    "        JSON string with city information including IATA code\n",
    "    \"\"\"\n",
    "    try:\n",
    "        params = {\n",
    "            \"keyword\": keyword,\n",
    "            \"max\": 5,\n",
    "            \"subType\": \"CITY\"\n",
    "        }\n",
    "        \n",
    "        endpoint = \"/v1/reference-data/locations\"\n",
    "        response = amadeus_client.make_request(endpoint, params=params)\n",
    "        \n",
    "        cities = response.get(\"data\", [])\n",
    "        \n",
    "        if not cities:\n",
    "            return json.dumps({\n",
    "                \"success\": False,\n",
    "                \"message\": f\"No city found matching '{keyword}'\"\n",
    "            }, indent=2)\n",
    "        \n",
    "        formatted_cities = []\n",
    "        for city in cities:\n",
    "            formatted_cities.append({\n",
    "                \"iata_code\": city.get(\"iataCode\"),\n",
    "                \"name\": city.get(\"name\"),\n",
    "                \"country\": city.get(\"address\", {}).get(\"countryName\"),\n",
    "                \"country_code\": city.get(\"address\", {}).get(\"countryCode\"),\n",
    "                \"state_code\": city.get(\"address\", {}).get(\"stateCode\"),\n",
    "                \"latitude\": city.get(\"geoCode\", {}).get(\"latitude\"),\n",
    "                \"longitude\": city.get(\"geoCode\", {}).get(\"longitude\"),\n",
    "                \"timezone\": city.get(\"timeZoneOffset\")\n",
    "            })\n",
    "        \n",
    "        result = {\n",
    "            \"success\": True,\n",
    "            \"count\": len(formatted_cities),\n",
    "            \"cities\": formatted_cities\n",
    "        }\n",
    "        \n",
    "        return json.dumps(result, indent=2)\n",
    "        \n",
    "    except Exception as e:\n",
    "        logger.error(f\"City info search failed: {e}\")\n",
    "        return json.dumps({\n",
    "            \"success\": False,\n",
    "            \"error\": str(e),\n",
    "            \"message\": \"Failed to get city information.\"\n",
    "        }, indent=2)\n",
    "\n",
    "@mcp_server.tool()\n",
    "def get_airline_info(carrier_code: str) -> str:\n",
    "    \"\"\"Get information about an airline by its carrier code.\n",
    "    \n",
    "    Args:\n",
    "        carrier_code: Airline carrier code (e.g., 'AA', 'DL', 'UA')\n",
    "    \n",
    "    Returns:\n",
    "        JSON string with airline information\n",
    "    \"\"\"\n",
    "    try:\n",
    "        endpoint = f\"/v1/reference-data/airlines\"\n",
    "        params = {\"airlineCodes\": carrier_code.upper()}\n",
    "        \n",
    "        response = amadeus_client.make_request(endpoint, params=params)\n",
    "        \n",
    "        airlines = response.get(\"data\", [])\n",
    "        \n",
    "        if not airlines:\n",
    "            return json.dumps({\n",
    "                \"success\": False,\n",
    "                \"message\": f\"No airline found with code '{carrier_code}'\"\n",
    "            }, indent=2)\n",
    "        \n",
    "        airline = airlines[0]\n",
    "        \n",
    "        result = {\n",
    "            \"success\": True,\n",
    "            \"airline\": {\n",
    "                \"iata_code\": airline.get(\"iataCode\"),\n",
    "                \"icao_code\": airline.get(\"icaoCode\"),\n",
    "                \"business_name\": airline.get(\"businessName\"),\n",
    "                \"common_name\": airline.get(\"commonName\")\n",
    "            }\n",
    "        }\n",
    "        \n",
    "        return json.dumps(result, indent=2)\n",
    "        \n",
    "    except Exception as e:\n",
    "        logger.error(f\"Airline info search failed: {e}\")\n",
    "        return json.dumps({\n",
    "            \"success\": False,\n",
    "            \"error\": str(e),\n",
    "            \"message\": \"Failed to get airline information.\"\n",
    "        }, indent=2)\n",
    "\n",
    "@mcp_server.tool()\n",
    "def check_flight_status(\n",
    "    carrier_code: str,\n",
    "    flight_number: str,\n",
    "    scheduled_departure_date: str\n",
    ") -> str:\n",
    "    \"\"\"Check the status of a specific flight.\n",
    "    \n",
    "    Args:\n",
    "        carrier_code: Airline carrier code (e.g., 'AA', 'DL')\n",
    "        flight_number: Flight number (e.g., '100')\n",
    "        scheduled_departure_date: Scheduled departure date (YYYY-MM-DD)\n",
    "    \n",
    "    Returns:\n",
    "        JSON string with flight status information\n",
    "    \"\"\"\n",
    "    try:\n",
    "        endpoint = \"/v2/schedule/flights\"\n",
    "        params = {\n",
    "            \"carrierCode\": carrier_code.upper(),\n",
    "            \"flightNumber\": flight_number,\n",
    "            \"scheduledDepartureDate\": scheduled_departure_date\n",
    "        }\n",
    "        \n",
    "        response = amadeus_client.make_request(endpoint, params=params)\n",
    "        \n",
    "        flights = response.get(\"data\", [])\n",
    "        \n",
    "        if not flights:\n",
    "            return json.dumps({\n",
    "                \"success\": False,\n",
    "                \"message\": f\"No flight found for {carrier_code}{flight_number} on {scheduled_departure_date}\"\n",
    "            }, indent=2)\n",
    "        \n",
    "        flight = flights[0]\n",
    "        \n",
    "        result = {\n",
    "            \"success\": True,\n",
    "            \"flight_status\": {\n",
    "                \"carrier\": carrier_code,\n",
    "                \"flight_number\": flight_number,\n",
    "                \"departure\": {\n",
    "                    \"airport\": flight.get(\"flightPoints\", [{}])[0].get(\"iataCode\"),\n",
    "                    \"scheduled\": flight.get(\"flightPoints\", [{}])[0].get(\"departure\", {}).get(\"timings\", [{}])[0].get(\"value\")\n",
    "                },\n",
    "                \"arrival\": {\n",
    "                    \"airport\": flight.get(\"flightPoints\", [{}])[-1].get(\"iataCode\") if flight.get(\"flightPoints\") else None,\n",
    "                    \"scheduled\": flight.get(\"flightPoints\", [{}])[-1].get(\"arrival\", {}).get(\"timings\", [{}])[0].get(\"value\") if flight.get(\"flightPoints\") else None\n",
    "                }\n",
    "            }\n",
    "        }\n",
    "        \n",
    "        return json.dumps(result, indent=2)\n",
    "        \n",
    "    except Exception as e:\n",
    "        logger.error(f\"Flight status check failed: {e}\")\n",
    "        return json.dumps({\n",
    "            \"success\": False,\n",
    "            \"error\": str(e),\n",
    "            \"message\": \"Failed to check flight status.\"\n",
    "        }, indent=2)"
   ]
  },
  {
   "cell_type": "code",
   "execution_count": null,
   "metadata": {},
   "outputs": [
    {
     "name": "stderr",
     "output_type": "stream",
     "text": [
      "c:\\Users\\Guido\\AppData\\Local\\Programs\\Python\\Python311\\Lib\\site-packages\\websockets\\legacy\\__init__.py:6: DeprecationWarning: websockets.legacy is deprecated; see https://websockets.readthedocs.io/en/stable/howto/upgrade.html for upgrade instructions\n",
      "  warnings.warn(  # deprecated in 14.0 - 2024-11-09\n",
      "c:\\Users\\Guido\\AppData\\Local\\Programs\\Python\\Python311\\Lib\\site-packages\\uvicorn\\protocols\\websockets\\websockets_impl.py:17: DeprecationWarning: websockets.server.WebSocketServerProtocol is deprecated\n",
      "  from websockets.server import WebSocketServerProtocol\n",
      "INFO:     Started server process [78220]\n",
      "INFO:     Waiting for application startup.\n",
      "INFO:mcp.server.streamable_http_manager:StreamableHTTP session manager started\n",
      "INFO:     Application startup complete.\n",
      "INFO:     Uvicorn running on http://127.0.0.1:8000 (Press CTRL+C to quit)\n"
     ]
    },
    {
     "name": "stdout",
     "output_type": "stream",
     "text": [
      "🚀 Starting Amadeus MCP Server (uvicorn)...\n",
      "✅ MCP Server running at http://127.0.0.1:8000\n"
     ]
    },
    {
     "name": "stderr",
     "output_type": "stream",
     "text": [
      "INFO:mcp.server.streamable_http_manager:Created new transport with session ID: d4cc871504f0400fa1bca854c656eca6\n"
     ]
    },
    {
     "name": "stdout",
     "output_type": "stream",
     "text": [
      "INFO:     127.0.0.1:51857 - \"POST /mcp/ HTTP/1.1\" 200 OK\n",
      "INFO:     127.0.0.1:51858 - \"POST /mcp/ HTTP/1.1\" 202 Accepted\n",
      "INFO:     127.0.0.1:51859 - \"GET /mcp/ HTTP/1.1\" 200 OK\n",
      "INFO:     127.0.0.1:51860 - \"POST /mcp/ HTTP/1.1\" 200 OK\n"
     ]
    },
    {
     "name": "stderr",
     "output_type": "stream",
     "text": [
      "INFO:mcp.server.lowlevel.server:Processing request of type ListToolsRequest\n",
      "INFO:mcp.server.streamable_http:Terminating session: d4cc871504f0400fa1bca854c656eca6\n"
     ]
    },
    {
     "name": "stdout",
     "output_type": "stream",
     "text": [
      "INFO:     127.0.0.1:51861 - \"DELETE /mcp/ HTTP/1.1\" 200 OK\n"
     ]
    },
    {
     "name": "stderr",
     "output_type": "stream",
     "text": [
      "INFO:mcp.server.streamable_http_manager:Created new transport with session ID: 12f3a35123b04aaea33c56d2590346d3\n"
     ]
    },
    {
     "name": "stdout",
     "output_type": "stream",
     "text": [
      "INFO:     127.0.0.1:51882 - \"POST /mcp/ HTTP/1.1\" 200 OK\n",
      "INFO:     127.0.0.1:51883 - \"POST /mcp/ HTTP/1.1\" 202 Accepted\n",
      "INFO:     127.0.0.1:51884 - \"GET /mcp/ HTTP/1.1\" 200 OK\n",
      "INFO:     127.0.0.1:51885 - \"POST /mcp/ HTTP/1.1\" 200 OK\n"
     ]
    },
    {
     "name": "stderr",
     "output_type": "stream",
     "text": [
      "INFO:mcp.server.lowlevel.server:Processing request of type CallToolRequest\n"
     ]
    },
    {
     "name": "stdout",
     "output_type": "stream",
     "text": [
      "INFO:     127.0.0.1:51889 - \"POST /mcp/ HTTP/1.1\" 200 OK\n"
     ]
    },
    {
     "name": "stderr",
     "output_type": "stream",
     "text": [
      "INFO:mcp.server.lowlevel.server:Processing request of type ListToolsRequest\n",
      "INFO:mcp.server.streamable_http:Terminating session: 12f3a35123b04aaea33c56d2590346d3\n"
     ]
    },
    {
     "name": "stdout",
     "output_type": "stream",
     "text": [
      "INFO:     127.0.0.1:51890 - \"DELETE /mcp/ HTTP/1.1\" 200 OK\n"
     ]
    },
    {
     "name": "stderr",
     "output_type": "stream",
     "text": [
      "INFO:mcp.server.streamable_http_manager:Created new transport with session ID: 23476bd4adc245f3af8f81a6fbc21e28\n"
     ]
    },
    {
     "name": "stdout",
     "output_type": "stream",
     "text": [
      "INFO:     127.0.0.1:51913 - \"POST /mcp/ HTTP/1.1\" 200 OK\n",
      "INFO:     127.0.0.1:51914 - \"POST /mcp/ HTTP/1.1\" 202 Accepted\n",
      "INFO:     127.0.0.1:51915 - \"GET /mcp/ HTTP/1.1\" 200 OK\n",
      "INFO:     127.0.0.1:51916 - \"POST /mcp/ HTTP/1.1\" 200 OK\n"
     ]
    },
    {
     "name": "stderr",
     "output_type": "stream",
     "text": [
      "INFO:mcp.server.lowlevel.server:Processing request of type CallToolRequest\n"
     ]
    },
    {
     "name": "stdout",
     "output_type": "stream",
     "text": [
      "INFO:     127.0.0.1:51923 - \"POST /mcp/ HTTP/1.1\" 200 OK\n"
     ]
    },
    {
     "name": "stderr",
     "output_type": "stream",
     "text": [
      "INFO:mcp.server.lowlevel.server:Processing request of type ListToolsRequest\n",
      "INFO:mcp.server.streamable_http:Terminating session: 23476bd4adc245f3af8f81a6fbc21e28\n"
     ]
    },
    {
     "name": "stdout",
     "output_type": "stream",
     "text": [
      "INFO:     127.0.0.1:51924 - \"DELETE /mcp/ HTTP/1.1\" 200 OK\n"
     ]
    },
    {
     "name": "stderr",
     "output_type": "stream",
     "text": [
      "INFO:mcp.server.streamable_http_manager:Created new transport with session ID: 37cc0d187a124e9bb2ad7e33110d6913\n"
     ]
    },
    {
     "name": "stdout",
     "output_type": "stream",
     "text": [
      "INFO:     127.0.0.1:51943 - \"POST /mcp/ HTTP/1.1\" 200 OK\n",
      "INFO:     127.0.0.1:51944 - \"POST /mcp/ HTTP/1.1\" 202 Accepted\n",
      "INFO:     127.0.0.1:51945 - \"GET /mcp/ HTTP/1.1\" 200 OK\n",
      "INFO:     127.0.0.1:51946 - \"POST /mcp/ HTTP/1.1\" 200 OK\n"
     ]
    },
    {
     "name": "stderr",
     "output_type": "stream",
     "text": [
      "INFO:mcp.server.lowlevel.server:Processing request of type CallToolRequest\n"
     ]
    },
    {
     "name": "stdout",
     "output_type": "stream",
     "text": [
      "INFO:     127.0.0.1:51956 - \"POST /mcp/ HTTP/1.1\" 200 OK\n"
     ]
    },
    {
     "name": "stderr",
     "output_type": "stream",
     "text": [
      "INFO:mcp.server.lowlevel.server:Processing request of type ListToolsRequest\n",
      "INFO:mcp.server.streamable_http:Terminating session: 37cc0d187a124e9bb2ad7e33110d6913\n"
     ]
    },
    {
     "name": "stdout",
     "output_type": "stream",
     "text": [
      "INFO:     127.0.0.1:51957 - \"DELETE /mcp/ HTTP/1.1\" 200 OK\n"
     ]
    },
    {
     "name": "stderr",
     "output_type": "stream",
     "text": [
      "INFO:mcp.server.streamable_http_manager:Created new transport with session ID: 8832ee05bad34b2ca7b07452d14eae16\n"
     ]
    },
    {
     "name": "stdout",
     "output_type": "stream",
     "text": [
      "INFO:     127.0.0.1:51970 - \"POST /mcp/ HTTP/1.1\" 200 OK\n",
      "INFO:     127.0.0.1:51971 - \"POST /mcp/ HTTP/1.1\" 202 Accepted\n",
      "INFO:     127.0.0.1:51972 - \"GET /mcp/ HTTP/1.1\" 200 OK\n",
      "INFO:     127.0.0.1:51973 - \"POST /mcp/ HTTP/1.1\" 200 OK\n"
     ]
    },
    {
     "name": "stderr",
     "output_type": "stream",
     "text": [
      "INFO:mcp.server.lowlevel.server:Processing request of type CallToolRequest\n"
     ]
    },
    {
     "name": "stdout",
     "output_type": "stream",
     "text": [
      "INFO:     127.0.0.1:51975 - \"POST /mcp/ HTTP/1.1\" 200 OK\n"
     ]
    },
    {
     "name": "stderr",
     "output_type": "stream",
     "text": [
      "INFO:mcp.server.lowlevel.server:Processing request of type ListToolsRequest\n",
      "INFO:mcp.server.streamable_http:Terminating session: 8832ee05bad34b2ca7b07452d14eae16\n"
     ]
    },
    {
     "name": "stdout",
     "output_type": "stream",
     "text": [
      "INFO:     127.0.0.1:51976 - \"DELETE /mcp/ HTTP/1.1\" 200 OK\n"
     ]
    },
    {
     "name": "stderr",
     "output_type": "stream",
     "text": [
      "INFO:mcp.server.streamable_http_manager:Created new transport with session ID: a3bc959d894542d0ace0a6648b35a73a\n"
     ]
    },
    {
     "name": "stdout",
     "output_type": "stream",
     "text": [
      "INFO:     127.0.0.1:51989 - \"POST /mcp/ HTTP/1.1\" 200 OK\n",
      "INFO:     127.0.0.1:51990 - \"POST /mcp/ HTTP/1.1\" 202 Accepted\n",
      "INFO:     127.0.0.1:51991 - \"GET /mcp/ HTTP/1.1\" 200 OK\n",
      "INFO:     127.0.0.1:51992 - \"POST /mcp/ HTTP/1.1\" 200 OK\n"
     ]
    },
    {
     "name": "stderr",
     "output_type": "stream",
     "text": [
      "INFO:mcp.server.lowlevel.server:Processing request of type CallToolRequest\n",
      "INFO:mcp.server.streamable_http:Terminating session: a3bc959d894542d0ace0a6648b35a73a\n"
     ]
    },
    {
     "name": "stdout",
     "output_type": "stream",
     "text": [
      "INFO:     127.0.0.1:51993 - \"DELETE /mcp/ HTTP/1.1\" 200 OK\n"
     ]
    },
    {
     "name": "stderr",
     "output_type": "stream",
     "text": [
      "INFO:mcp.server.streamable_http_manager:Created new transport with session ID: b80908f488e6476da837d24b1eef1efc\n"
     ]
    },
    {
     "name": "stdout",
     "output_type": "stream",
     "text": [
      "INFO:     127.0.0.1:52014 - \"POST /mcp/ HTTP/1.1\" 200 OK\n",
      "INFO:     127.0.0.1:52015 - \"POST /mcp/ HTTP/1.1\" 202 Accepted\n",
      "INFO:     127.0.0.1:52016 - \"GET /mcp/ HTTP/1.1\" 200 OK\n",
      "INFO:     127.0.0.1:52017 - \"POST /mcp/ HTTP/1.1\" 200 OK\n"
     ]
    },
    {
     "name": "stderr",
     "output_type": "stream",
     "text": [
      "INFO:mcp.server.lowlevel.server:Processing request of type CallToolRequest\n",
      "INFO:mcp.server.streamable_http:Terminating session: b80908f488e6476da837d24b1eef1efc\n"
     ]
    },
    {
     "name": "stdout",
     "output_type": "stream",
     "text": [
      "INFO:     127.0.0.1:52035 - \"DELETE /mcp/ HTTP/1.1\" 200 OK\n"
     ]
    },
    {
     "name": "stderr",
     "output_type": "stream",
     "text": [
      "INFO:mcp.server.streamable_http_manager:Created new transport with session ID: b92fe58934ac416a8961d7eedc1fdc5b\n"
     ]
    },
    {
     "name": "stdout",
     "output_type": "stream",
     "text": [
      "INFO:     127.0.0.1:52048 - \"POST /mcp/ HTTP/1.1\" 200 OK\n",
      "INFO:     127.0.0.1:52049 - \"POST /mcp/ HTTP/1.1\" 202 Accepted\n",
      "INFO:     127.0.0.1:52050 - \"GET /mcp/ HTTP/1.1\" 200 OK\n",
      "INFO:     127.0.0.1:52051 - \"POST /mcp/ HTTP/1.1\" 200 OK\n"
     ]
    },
    {
     "name": "stderr",
     "output_type": "stream",
     "text": [
      "INFO:mcp.server.lowlevel.server:Processing request of type CallToolRequest\n"
     ]
    },
    {
     "name": "stdout",
     "output_type": "stream",
     "text": [
      "INFO:     127.0.0.1:52056 - \"POST /mcp/ HTTP/1.1\" 200 OK\n"
     ]
    },
    {
     "name": "stderr",
     "output_type": "stream",
     "text": [
      "INFO:mcp.server.lowlevel.server:Processing request of type ListToolsRequest\n",
      "INFO:mcp.server.streamable_http:Terminating session: b92fe58934ac416a8961d7eedc1fdc5b\n"
     ]
    },
    {
     "name": "stdout",
     "output_type": "stream",
     "text": [
      "INFO:     127.0.0.1:52057 - \"DELETE /mcp/ HTTP/1.1\" 200 OK\n"
     ]
    },
    {
     "name": "stderr",
     "output_type": "stream",
     "text": [
      "INFO:mcp.server.streamable_http_manager:Created new transport with session ID: 644b1bd952094f5fb4324e324320b4cf\n"
     ]
    },
    {
     "name": "stdout",
     "output_type": "stream",
     "text": [
      "INFO:     127.0.0.1:52067 - \"POST /mcp/ HTTP/1.1\" 200 OK\n",
      "INFO:     127.0.0.1:52068 - \"POST /mcp/ HTTP/1.1\" 202 Accepted\n",
      "INFO:     127.0.0.1:52069 - \"GET /mcp/ HTTP/1.1\" 200 OK\n",
      "INFO:     127.0.0.1:52070 - \"POST /mcp/ HTTP/1.1\" 200 OK\n"
     ]
    },
    {
     "name": "stderr",
     "output_type": "stream",
     "text": [
      "INFO:mcp.server.lowlevel.server:Processing request of type CallToolRequest\n"
     ]
    },
    {
     "name": "stdout",
     "output_type": "stream",
     "text": [
      "INFO:     127.0.0.1:52074 - \"POST /mcp/ HTTP/1.1\" 200 OK\n"
     ]
    },
    {
     "name": "stderr",
     "output_type": "stream",
     "text": [
      "INFO:mcp.server.lowlevel.server:Processing request of type ListToolsRequest\n",
      "INFO:mcp.server.streamable_http:Terminating session: 644b1bd952094f5fb4324e324320b4cf\n"
     ]
    },
    {
     "name": "stdout",
     "output_type": "stream",
     "text": [
      "INFO:     127.0.0.1:52075 - \"DELETE /mcp/ HTTP/1.1\" 200 OK\n"
     ]
    },
    {
     "name": "stderr",
     "output_type": "stream",
     "text": [
      "INFO:mcp.server.streamable_http_manager:Created new transport with session ID: 49e8b12348bc4945884bf32f60d8ef96\n"
     ]
    },
    {
     "name": "stdout",
     "output_type": "stream",
     "text": [
      "INFO:     127.0.0.1:52084 - \"POST /mcp/ HTTP/1.1\" 200 OK\n",
      "INFO:     127.0.0.1:52085 - \"POST /mcp/ HTTP/1.1\" 202 Accepted\n",
      "INFO:     127.0.0.1:52086 - \"GET /mcp/ HTTP/1.1\" 200 OK\n",
      "INFO:     127.0.0.1:52087 - \"POST /mcp/ HTTP/1.1\" 200 OK\n"
     ]
    },
    {
     "name": "stderr",
     "output_type": "stream",
     "text": [
      "INFO:mcp.server.lowlevel.server:Processing request of type CallToolRequest\n",
      "INFO:mcp.server.streamable_http:Terminating session: 49e8b12348bc4945884bf32f60d8ef96\n"
     ]
    },
    {
     "name": "stdout",
     "output_type": "stream",
     "text": [
      "INFO:     127.0.0.1:52088 - \"DELETE /mcp/ HTTP/1.1\" 200 OK\n"
     ]
    },
    {
     "name": "stderr",
     "output_type": "stream",
     "text": [
      "INFO:mcp.server.streamable_http_manager:Created new transport with session ID: 2b607b5baa534bf5bccff16cffa6df8e\n"
     ]
    },
    {
     "name": "stdout",
     "output_type": "stream",
     "text": [
      "INFO:     127.0.0.1:52099 - \"POST /mcp/ HTTP/1.1\" 200 OK\n",
      "INFO:     127.0.0.1:52100 - \"POST /mcp/ HTTP/1.1\" 202 Accepted\n",
      "INFO:     127.0.0.1:52101 - \"GET /mcp/ HTTP/1.1\" 200 OK\n",
      "INFO:     127.0.0.1:52102 - \"POST /mcp/ HTTP/1.1\" 200 OK\n"
     ]
    },
    {
     "name": "stderr",
     "output_type": "stream",
     "text": [
      "INFO:mcp.server.lowlevel.server:Processing request of type CallToolRequest\n",
      "ERROR:__main__:Flight booking failed: Extra data: line 1 column 2013 (char 2012)\n"
     ]
    },
    {
     "name": "stdout",
     "output_type": "stream",
     "text": [
      "INFO:     127.0.0.1:52103 - \"POST /mcp/ HTTP/1.1\" 200 OK\n"
     ]
    },
    {
     "name": "stderr",
     "output_type": "stream",
     "text": [
      "INFO:mcp.server.lowlevel.server:Processing request of type ListToolsRequest\n",
      "INFO:mcp.server.streamable_http:Terminating session: 2b607b5baa534bf5bccff16cffa6df8e\n"
     ]
    },
    {
     "name": "stdout",
     "output_type": "stream",
     "text": [
      "INFO:     127.0.0.1:52104 - \"DELETE /mcp/ HTTP/1.1\" 200 OK\n"
     ]
    },
    {
     "name": "stderr",
     "output_type": "stream",
     "text": [
      "INFO:mcp.server.streamable_http_manager:Created new transport with session ID: c47ae42649434a08a70ba5c928fa38b4\n"
     ]
    },
    {
     "name": "stdout",
     "output_type": "stream",
     "text": [
      "INFO:     127.0.0.1:52151 - \"POST /mcp/ HTTP/1.1\" 200 OK\n",
      "INFO:     127.0.0.1:52152 - \"POST /mcp/ HTTP/1.1\" 202 Accepted\n",
      "INFO:     127.0.0.1:52153 - \"GET /mcp/ HTTP/1.1\" 200 OK\n",
      "INFO:     127.0.0.1:52154 - \"POST /mcp/ HTTP/1.1\" 200 OK\n"
     ]
    },
    {
     "name": "stderr",
     "output_type": "stream",
     "text": [
      "INFO:mcp.server.lowlevel.server:Processing request of type ListResourcesRequest\n"
     ]
    },
    {
     "name": "stdout",
     "output_type": "stream",
     "text": [
      "INFO:     127.0.0.1:52155 - \"POST /mcp/ HTTP/1.1\" 200 OK\n"
     ]
    },
    {
     "name": "stderr",
     "output_type": "stream",
     "text": [
      "INFO:mcp.server.lowlevel.server:Processing request of type ReadResourceRequest\n"
     ]
    },
    {
     "name": "stdout",
     "output_type": "stream",
     "text": [
      "INFO:     127.0.0.1:52156 - \"POST /mcp/ HTTP/1.1\" 200 OK\n"
     ]
    },
    {
     "name": "stderr",
     "output_type": "stream",
     "text": [
      "INFO:mcp.server.lowlevel.server:Processing request of type ReadResourceRequest\n"
     ]
    },
    {
     "name": "stdout",
     "output_type": "stream",
     "text": [
      "INFO:     127.0.0.1:52157 - \"POST /mcp/ HTTP/1.1\" 200 OK\n"
     ]
    },
    {
     "name": "stderr",
     "output_type": "stream",
     "text": [
      "INFO:mcp.server.lowlevel.server:Processing request of type ReadResourceRequest\n"
     ]
    },
    {
     "name": "stdout",
     "output_type": "stream",
     "text": [
      "INFO:     127.0.0.1:52158 - \"POST /mcp/ HTTP/1.1\" 200 OK\n"
     ]
    },
    {
     "name": "stderr",
     "output_type": "stream",
     "text": [
      "INFO:mcp.server.lowlevel.server:Processing request of type ReadResourceRequest\n"
     ]
    },
    {
     "name": "stdout",
     "output_type": "stream",
     "text": [
      "INFO:     127.0.0.1:52159 - \"POST /mcp/ HTTP/1.1\" 200 OK\n"
     ]
    },
    {
     "name": "stderr",
     "output_type": "stream",
     "text": [
      "INFO:mcp.server.lowlevel.server:Processing request of type ReadResourceRequest\n"
     ]
    },
    {
     "name": "stdout",
     "output_type": "stream",
     "text": [
      "INFO:     127.0.0.1:52160 - \"POST /mcp/ HTTP/1.1\" 200 OK\n"
     ]
    },
    {
     "name": "stderr",
     "output_type": "stream",
     "text": [
      "INFO:mcp.server.lowlevel.server:Processing request of type ReadResourceRequest\n"
     ]
    },
    {
     "name": "stdout",
     "output_type": "stream",
     "text": [
      "INFO:     127.0.0.1:52161 - \"POST /mcp/ HTTP/1.1\" 200 OK\n"
     ]
    },
    {
     "name": "stderr",
     "output_type": "stream",
     "text": [
      "INFO:mcp.server.lowlevel.server:Processing request of type ReadResourceRequest\n",
      "INFO:mcp.server.streamable_http:Terminating session: c47ae42649434a08a70ba5c928fa38b4\n"
     ]
    },
    {
     "name": "stdout",
     "output_type": "stream",
     "text": [
      "INFO:     127.0.0.1:52162 - \"DELETE /mcp/ HTTP/1.1\" 200 OK\n"
     ]
    },
    {
     "name": "stderr",
     "output_type": "stream",
     "text": [
      "INFO:mcp.server.streamable_http_manager:Created new transport with session ID: 04b78b0671584b7d9a0c686202bbb07a\n"
     ]
    },
    {
     "name": "stdout",
     "output_type": "stream",
     "text": [
      "INFO:     127.0.0.1:52316 - \"POST /mcp/ HTTP/1.1\" 200 OK\n",
      "INFO:     127.0.0.1:52317 - \"POST /mcp/ HTTP/1.1\" 202 Accepted\n",
      "INFO:     127.0.0.1:52318 - \"GET /mcp/ HTTP/1.1\" 200 OK\n",
      "INFO:     127.0.0.1:52319 - \"POST /mcp/ HTTP/1.1\" 200 OK\n"
     ]
    },
    {
     "name": "stderr",
     "output_type": "stream",
     "text": [
      "INFO:mcp.server.lowlevel.server:Processing request of type GetPromptRequest\n",
      "INFO:mcp.server.streamable_http:Terminating session: 04b78b0671584b7d9a0c686202bbb07a\n"
     ]
    },
    {
     "name": "stdout",
     "output_type": "stream",
     "text": [
      "INFO:     127.0.0.1:52320 - \"DELETE /mcp/ HTTP/1.1\" 200 OK\n"
     ]
    },
    {
     "name": "stderr",
     "output_type": "stream",
     "text": [
      "INFO:mcp.server.streamable_http_manager:Created new transport with session ID: 3a038d45e1af4460a75253365632f32a\n"
     ]
    },
    {
     "name": "stdout",
     "output_type": "stream",
     "text": [
      "INFO:     127.0.0.1:52347 - \"POST /mcp/ HTTP/1.1\" 200 OK\n",
      "INFO:     127.0.0.1:52348 - \"POST /mcp/ HTTP/1.1\" 202 Accepted\n",
      "INFO:     127.0.0.1:52349 - \"GET /mcp/ HTTP/1.1\" 200 OK\n",
      "INFO:     127.0.0.1:52350 - \"POST /mcp/ HTTP/1.1\" 200 OK\n"
     ]
    },
    {
     "name": "stderr",
     "output_type": "stream",
     "text": [
      "INFO:mcp.server.lowlevel.server:Processing request of type GetPromptRequest\n",
      "INFO:mcp.server.streamable_http:Terminating session: 3a038d45e1af4460a75253365632f32a\n"
     ]
    },
    {
     "name": "stdout",
     "output_type": "stream",
     "text": [
      "INFO:     127.0.0.1:52351 - \"DELETE /mcp/ HTTP/1.1\" 200 OK\n"
     ]
    },
    {
     "name": "stderr",
     "output_type": "stream",
     "text": [
      "INFO:mcp.server.streamable_http_manager:Created new transport with session ID: 0c2af70ec80945e982a1d7c98017a568\n"
     ]
    },
    {
     "name": "stdout",
     "output_type": "stream",
     "text": [
      "INFO:     127.0.0.1:52365 - \"POST /mcp/ HTTP/1.1\" 200 OK\n",
      "INFO:     127.0.0.1:52366 - \"POST /mcp/ HTTP/1.1\" 202 Accepted\n",
      "INFO:     127.0.0.1:52367 - \"GET /mcp/ HTTP/1.1\" 200 OK\n",
      "INFO:     127.0.0.1:52368 - \"POST /mcp/ HTTP/1.1\" 200 OK\n"
     ]
    },
    {
     "name": "stderr",
     "output_type": "stream",
     "text": [
      "INFO:mcp.server.lowlevel.server:Processing request of type GetPromptRequest\n",
      "INFO:mcp.server.streamable_http:Terminating session: 0c2af70ec80945e982a1d7c98017a568\n"
     ]
    },
    {
     "name": "stdout",
     "output_type": "stream",
     "text": [
      "INFO:     127.0.0.1:52369 - \"DELETE /mcp/ HTTP/1.1\" 200 OK\n"
     ]
    },
    {
     "name": "stderr",
     "output_type": "stream",
     "text": [
      "INFO:mcp.server.streamable_http_manager:Created new transport with session ID: 3699b336bb3a4141851ac9771251ab0c\n"
     ]
    },
    {
     "name": "stdout",
     "output_type": "stream",
     "text": [
      "INFO:     127.0.0.1:52393 - \"POST /mcp/ HTTP/1.1\" 200 OK\n",
      "INFO:     127.0.0.1:52394 - \"POST /mcp/ HTTP/1.1\" 202 Accepted\n",
      "INFO:     127.0.0.1:52395 - \"GET /mcp/ HTTP/1.1\" 200 OK\n",
      "INFO:     127.0.0.1:52396 - \"POST /mcp/ HTTP/1.1\" 200 OK\n"
     ]
    },
    {
     "name": "stderr",
     "output_type": "stream",
     "text": [
      "INFO:mcp.server.lowlevel.server:Processing request of type GetPromptRequest\n",
      "INFO:mcp.server.streamable_http:Terminating session: 3699b336bb3a4141851ac9771251ab0c\n"
     ]
    },
    {
     "name": "stdout",
     "output_type": "stream",
     "text": [
      "INFO:     127.0.0.1:52397 - \"DELETE /mcp/ HTTP/1.1\" 200 OK\n"
     ]
    },
    {
     "name": "stderr",
     "output_type": "stream",
     "text": [
      "INFO:mcp.server.streamable_http_manager:Created new transport with session ID: 080c59f11cac452c9057e999face6204\n"
     ]
    },
    {
     "name": "stdout",
     "output_type": "stream",
     "text": [
      "INFO:     127.0.0.1:52510 - \"POST /mcp/ HTTP/1.1\" 200 OK\n",
      "INFO:     127.0.0.1:52511 - \"POST /mcp/ HTTP/1.1\" 202 Accepted\n",
      "INFO:     127.0.0.1:52512 - \"GET /mcp/ HTTP/1.1\" 200 OK\n",
      "INFO:     127.0.0.1:52513 - \"POST /mcp/ HTTP/1.1\" 200 OK\n"
     ]
    },
    {
     "name": "stderr",
     "output_type": "stream",
     "text": [
      "INFO:mcp.server.lowlevel.server:Processing request of type CallToolRequest\n"
     ]
    },
    {
     "name": "stdout",
     "output_type": "stream",
     "text": [
      "INFO:     127.0.0.1:52519 - \"POST /mcp/ HTTP/1.1\" 200 OK\n"
     ]
    },
    {
     "name": "stderr",
     "output_type": "stream",
     "text": [
      "INFO:mcp.server.lowlevel.server:Processing request of type ListToolsRequest\n",
      "INFO:mcp.server.streamable_http:Terminating session: 080c59f11cac452c9057e999face6204\n"
     ]
    },
    {
     "name": "stdout",
     "output_type": "stream",
     "text": [
      "INFO:     127.0.0.1:52520 - \"DELETE /mcp/ HTTP/1.1\" 200 OK\n"
     ]
    },
    {
     "name": "stderr",
     "output_type": "stream",
     "text": [
      "INFO:mcp.server.streamable_http_manager:Created new transport with session ID: ba29e4a8acc34ceda33f5e8d1516a3b8\n"
     ]
    },
    {
     "name": "stdout",
     "output_type": "stream",
     "text": [
      "INFO:     127.0.0.1:52536 - \"POST /mcp/ HTTP/1.1\" 200 OK\n",
      "INFO:     127.0.0.1:52537 - \"POST /mcp/ HTTP/1.1\" 202 Accepted\n",
      "INFO:     127.0.0.1:52538 - \"GET /mcp/ HTTP/1.1\" 200 OK\n",
      "INFO:     127.0.0.1:52539 - \"POST /mcp/ HTTP/1.1\" 200 OK\n"
     ]
    },
    {
     "name": "stderr",
     "output_type": "stream",
     "text": [
      "INFO:mcp.server.lowlevel.server:Processing request of type CallToolRequest\n"
     ]
    },
    {
     "name": "stdout",
     "output_type": "stream",
     "text": [
      "INFO:     127.0.0.1:52541 - \"POST /mcp/ HTTP/1.1\" 200 OK\n"
     ]
    },
    {
     "name": "stderr",
     "output_type": "stream",
     "text": [
      "INFO:mcp.server.lowlevel.server:Processing request of type ListToolsRequest\n",
      "INFO:mcp.server.streamable_http:Terminating session: ba29e4a8acc34ceda33f5e8d1516a3b8\n"
     ]
    },
    {
     "name": "stdout",
     "output_type": "stream",
     "text": [
      "INFO:     127.0.0.1:52542 - \"DELETE /mcp/ HTTP/1.1\" 200 OK\n"
     ]
    },
    {
     "name": "stderr",
     "output_type": "stream",
     "text": [
      "INFO:mcp.server.streamable_http_manager:Created new transport with session ID: cc38571c66a44860b666816bf20a4158\n"
     ]
    },
    {
     "name": "stdout",
     "output_type": "stream",
     "text": [
      "INFO:     127.0.0.1:52553 - \"POST /mcp/ HTTP/1.1\" 200 OK\n",
      "INFO:     127.0.0.1:52554 - \"POST /mcp/ HTTP/1.1\" 202 Accepted\n",
      "INFO:     127.0.0.1:52555 - \"GET /mcp/ HTTP/1.1\" 200 OK\n",
      "INFO:     127.0.0.1:52556 - \"POST /mcp/ HTTP/1.1\" 200 OK\n"
     ]
    },
    {
     "name": "stderr",
     "output_type": "stream",
     "text": [
      "INFO:mcp.server.lowlevel.server:Processing request of type CallToolRequest\n"
     ]
    },
    {
     "name": "stdout",
     "output_type": "stream",
     "text": [
      "INFO:     127.0.0.1:52560 - \"POST /mcp/ HTTP/1.1\" 200 OK\n"
     ]
    },
    {
     "name": "stderr",
     "output_type": "stream",
     "text": [
      "INFO:mcp.server.lowlevel.server:Processing request of type ListToolsRequest\n",
      "INFO:mcp.server.streamable_http:Terminating session: cc38571c66a44860b666816bf20a4158\n"
     ]
    },
    {
     "name": "stdout",
     "output_type": "stream",
     "text": [
      "INFO:     127.0.0.1:52561 - \"DELETE /mcp/ HTTP/1.1\" 200 OK\n"
     ]
    }
   ],
   "source": [
    "# ================== Start MCP Server with uvicorn ==================\n",
    "import threading, time, uvicorn\n",
    "\n",
    "# Prefer HTTP if available, else fall back to SSE\n",
    "if hasattr(mcp_server, \"http_app\"):\n",
    "    asgi_app = mcp_server.http_app()\n",
    "    endpoint = \"http://127.0.0.1:8000\"\n",
    "elif hasattr(mcp_server, \"sse_app\"):\n",
    "    asgi_app = mcp_server.sse_app()\n",
    "    endpoint = \"http://127.0.0.1:8000\"  # SSE over HTTP\n",
    "else:\n",
    "    raise RuntimeError(\"This FastMCP version doesn't expose http_app() or sse_app().\")\n",
    "\n",
    "def start_server():\n",
    "    print(\"🚀 Starting Amadeus MCP Server (uvicorn)...\")\n",
    "    uvicorn.run(asgi_app, host=\"127.0.0.1\", port=8000, log_level=\"info\")\n",
    "\n",
    "t = threading.Thread(target=start_server, daemon=True)\n",
    "t.start()\n",
    "time.sleep(2)\n",
    "print(f\"✅ MCP Server running at {endpoint}\")\n"
   ]
  },
  {
   "cell_type": "markdown",
   "metadata": {},
   "source": [
    "### Testing the MCP Server\n",
    "\n",
    "Let's test our MCP Server using an MCP client:"
   ]
  },
  {
   "cell_type": "code",
   "execution_count": 8,
   "metadata": {},
   "outputs": [
    {
     "name": "stderr",
     "output_type": "stream",
     "text": [
      "INFO:mcp.server.lowlevel.server:Processing request of type ListToolsRequest\n"
     ]
    },
    {
     "name": "stdout",
     "output_type": "stream",
     "text": [
      "📋 Server Components (in-memory probe):\n",
      "   - Tools: 8\n",
      "   - Amadeus API: ✅ Connected\n"
     ]
    }
   ],
   "source": [
    "# ================== Probe via FastMCP's own Client (version-safe) ==================\n",
    "import sys, asyncio\n",
    "from fastmcp import Client  # FastMCP's client\n",
    "\n",
    "async def probe():\n",
    "    # In-memory probe: no network, always compatible\n",
    "    inmem_client = Client(mcp_server)\n",
    "    async with inmem_client:\n",
    "        tools = await inmem_client.list_tools()\n",
    "        print(\"📋 Server Components (in-memory probe):\")\n",
    "        print(f\"   - Tools: {len(tools)}\")\n",
    "\n",
    "# notebook-safe runner\n",
    "if \"ipykernel\" in sys.modules or \"PYDEVD_LOAD_VALUES_ASYNC\" in sys.modules:\n",
    "    await probe()\n",
    "else:\n",
    "    asyncio.run(probe())\n",
    "\n",
    "# ================== Amadeus token check ==================\n",
    "try:\n",
    "    ok = bool(amadeus_client.get_access_token())\n",
    "    print(f\"   - Amadeus API: {'✅ Connected' if ok else '❌ Failed'}\")\n",
    "except Exception as e:\n",
    "    print(f\"   - Amadeus API: ❌ Error during token check: {e}\")"
   ]
  },
  {
   "cell_type": "markdown",
   "metadata": {},
   "source": [
    "## Part 2: Creating the the AI Travel Agent using MCP\n",
    "\n",
    "Now we'll create an intelligent travel agent based on an MCP Client that can interact with our MCP server. This agent will:\n",
    "\n",
    "- Understand natural language travel requests\n",
    "- Use the MCP server tools to search for flights, hotels, and cars\n",
    "- Help users make bookings\n",
    "- Provide travel recommendations\n",
    "\n",
    "### Create the MCP Client"
   ]
  },
  {
   "cell_type": "code",
   "execution_count": 9,
   "metadata": {},
   "outputs": [],
   "source": [
    "from langchain_mcp_adapters.client import MultiServerMCPClient\n",
    "\n",
    "mcp_client = MultiServerMCPClient({\n",
    "    \"amadeus\": {\n",
    "        \"url\": \"http://127.0.0.1:8000/mcp/\",\n",
    "        \"transport\": \"streamable_http\",\n",
    "    }\n",
    "})"
   ]
  },
  {
   "cell_type": "markdown",
   "metadata": {},
   "source": [
    "## Create the AI Travel Agent"
   ]
  },
  {
   "cell_type": "code",
   "execution_count": 10,
   "metadata": {},
   "outputs": [
    {
     "name": "stderr",
     "output_type": "stream",
     "text": [
      "INFO:httpx:HTTP Request: POST http://127.0.0.1:8000/mcp/ \"HTTP/1.1 200 OK\"\n",
      "INFO:mcp.client.streamable_http:Received session ID: d4cc871504f0400fa1bca854c656eca6\n",
      "INFO:mcp.client.streamable_http:Negotiated protocol version: 2025-06-18\n",
      "INFO:httpx:HTTP Request: POST http://127.0.0.1:8000/mcp/ \"HTTP/1.1 202 Accepted\"\n",
      "INFO:httpx:HTTP Request: GET http://127.0.0.1:8000/mcp/ \"HTTP/1.1 200 OK\"\n",
      "INFO:httpx:HTTP Request: POST http://127.0.0.1:8000/mcp/ \"HTTP/1.1 200 OK\"\n",
      "INFO:httpx:HTTP Request: DELETE http://127.0.0.1:8000/mcp/ \"HTTP/1.1 200 OK\"\n"
     ]
    }
   ],
   "source": [
    "from langgraph.prebuilt import create_react_agent\n",
    "from langchain_mcp_adapters.tools import load_mcp_tools\n",
    "\n",
    "from common.prompts import MCP_TRAVEL_AGENT_PROMPT_TEXT, CUSTOM_CHATBOT_PREFIX\n",
    "\n",
    "async def create_travel_agent(\n",
    "        llm:AzureChatOpenAI,\n",
    "        prompt:str,\n",
    "        name: str\n",
    "    ):\n",
    "\n",
    "    tools = await mcp_client.get_tools()\n",
    "    travel_agent = create_react_agent(llm, \n",
    "                                     tools=tools, \n",
    "                                     prompt=prompt,\n",
    "                                     name=name)\n",
    "    return travel_agent \n",
    "\n",
    "travel_agent = await create_travel_agent(\n",
    "    llm,\n",
    "    CUSTOM_CHATBOT_PREFIX + MCP_TRAVEL_AGENT_PROMPT_TEXT,\n",
    "    \"travel_agent\"\n",
    ")"
   ]
  },
  {
   "cell_type": "markdown",
   "metadata": {},
   "source": [
    "## QUICK DEMO: Travel Booking with MCP Server\n",
    "### This demo showcases how to use the Amadeus MCP server to search for real flights"
   ]
  },
  {
   "cell_type": "code",
   "execution_count": 11,
   "metadata": {},
   "outputs": [],
   "source": [
    "async def stream_graph_updates_async(graph, user_input: str):\n",
    "    inputs = {\"messages\": [(\"human\", user_input)]}\n",
    "\n",
    "    async for event in graph.astream_events(inputs, version=\"v2\"):\n",
    "        if (event[\"event\"] == \"on_chat_model_stream\"):\n",
    "            # Print the content of the chunk progressively\n",
    "            print(event[\"data\"][\"chunk\"].content, end=\"\", flush=True)\n",
    "        elif (event[\"event\"] == \"on_tool_start\"  ):\n",
    "            print(\"\\n--\")\n",
    "            print(f\"Calling tool: {event['name']} with inputs: {event['data'].get('input')}\")\n",
    "            print(\"--\")"
   ]
  },
  {
   "cell_type": "code",
   "execution_count": 12,
   "metadata": {},
   "outputs": [
    {
     "name": "stderr",
     "output_type": "stream",
     "text": [
      "INFO:httpx:HTTP Request: POST https://ksg-openai-swedencentral.openai.azure.com/openai/deployments/gpt-4o/chat/completions?api-version=2025-04-01-preview \"HTTP/1.1 200 OK\"\n"
     ]
    },
    {
     "name": "stdout",
     "output_type": "stream",
     "text": [
      "\n",
      "--\n",
      "Calling tool: search_flights with inputs: {'origin': 'EZE', 'destination': 'JFK', 'departure_date': '2025-10-15', 'adults': 1, 'travel_class': 'ECONOMY', 'currency': 'USD', 'max_results': 5}\n",
      "--\n"
     ]
    },
    {
     "name": "stderr",
     "output_type": "stream",
     "text": [
      "INFO:httpx:HTTP Request: POST http://127.0.0.1:8000/mcp/ \"HTTP/1.1 200 OK\"\n",
      "INFO:mcp.client.streamable_http:Received session ID: 12f3a35123b04aaea33c56d2590346d3\n",
      "INFO:mcp.client.streamable_http:Negotiated protocol version: 2025-06-18\n",
      "INFO:httpx:HTTP Request: POST http://127.0.0.1:8000/mcp/ \"HTTP/1.1 202 Accepted\"\n",
      "INFO:httpx:HTTP Request: GET http://127.0.0.1:8000/mcp/ \"HTTP/1.1 200 OK\"\n",
      "INFO:httpx:HTTP Request: POST http://127.0.0.1:8000/mcp/ \"HTTP/1.1 200 OK\"\n",
      "INFO:httpx:HTTP Request: POST http://127.0.0.1:8000/mcp/ \"HTTP/1.1 200 OK\"\n",
      "INFO:httpx:HTTP Request: DELETE http://127.0.0.1:8000/mcp/ \"HTTP/1.1 200 OK\"\n",
      "INFO:httpx:HTTP Request: POST https://ksg-openai-swedencentral.openai.azure.com/openai/deployments/gpt-4o/chat/completions?api-version=2025-04-01-preview \"HTTP/1.1 200 OK\"\n"
     ]
    },
    {
     "name": "stdout",
     "output_type": "stream",
     "text": [
      "✈️ **Flight Options from Buenos Aires (EZE) to New York (JFK) on October 15, 2025**\n",
      "\n",
      "**Option 1: LATAM Airlines**\n",
      "- **Duration**: 14h 10m (1 stop in Lima)\n",
      "- **Departure**: 07:40 (EZE) | **Arrival**: 20:50 (JFK)\n",
      "- **Price**: $476.51 (Economy, no checked bags included)\n",
      "- **Seats Available**: 7\n",
      "\n",
      "**Option 2: LATAM Airlines**\n",
      "- **Duration**: 16h 17m (1 stop in Santiago)\n",
      "- **Departure**: 18:13 (EZE) | **Arrival**: 09:30 (JFK, next day)\n",
      "- **Price**: $476.51 (Economy, no checked bags included)\n",
      "- **Seats Available**: 7\n",
      "\n",
      "**Option 3: LATAM Airlines**\n",
      "- **Duration**: 21h 42m (1 stop in Santiago)\n",
      "- **Departure**: 12:48 (EZE) | **Arrival**: 09:30 (JFK, next day)\n",
      "- **Price**: $476.51 (Economy, no checked bags included)\n",
      "- **Seats Available**: 7\n",
      "\n",
      "**Option 4: LATAM Airlines**\n",
      "- **Duration**: 26h 25m (1 stop in Lima)\n",
      "- **Departure**: 07:40 (EZE) | **Arrival**: 09:05 (JFK, next day)\n",
      "- **Price**: $476.51 (Economy, no checked bags included)\n",
      "- **Seats Available**: 7\n",
      "\n",
      "**Option 5: LATAM Airlines**\n",
      "- **Duration**: 21h 17m (2 stops in Santiago and Lima)\n",
      "- **Departure**: 12:48 (EZE) | **Arrival**: 09:05 (JFK, next day)\n",
      "- **Price**: $495.71 (Economy, no checked bags included)\n",
      "- **Seats Available**: 7\n",
      "\n",
      "Let me know if you'd like to proceed with booking or need further assistance!"
     ]
    }
   ],
   "source": [
    "await stream_graph_updates_async(travel_agent, \"how much is a one way flight from Buenos Aires to New York for one person for October 15th?\")"
   ]
  },
  {
   "cell_type": "code",
   "execution_count": 13,
   "metadata": {},
   "outputs": [
    {
     "name": "stderr",
     "output_type": "stream",
     "text": [
      "INFO:httpx:HTTP Request: POST https://ksg-openai-swedencentral.openai.azure.com/openai/deployments/gpt-4o/chat/completions?api-version=2025-04-01-preview \"HTTP/1.1 200 OK\"\n"
     ]
    },
    {
     "name": "stdout",
     "output_type": "stream",
     "text": [
      "\n",
      "--\n",
      "Calling tool: search_hotels with inputs: {'city_code': 'NYC', 'check_in': '2025-10-01', 'check_out': '2025-10-15', 'adults': 1, 'room_quantity': 1}\n",
      "--\n"
     ]
    },
    {
     "name": "stderr",
     "output_type": "stream",
     "text": [
      "INFO:httpx:HTTP Request: POST http://127.0.0.1:8000/mcp/ \"HTTP/1.1 200 OK\"\n",
      "INFO:mcp.client.streamable_http:Received session ID: 23476bd4adc245f3af8f81a6fbc21e28\n",
      "INFO:mcp.client.streamable_http:Negotiated protocol version: 2025-06-18\n",
      "INFO:httpx:HTTP Request: POST http://127.0.0.1:8000/mcp/ \"HTTP/1.1 202 Accepted\"\n",
      "INFO:httpx:HTTP Request: GET http://127.0.0.1:8000/mcp/ \"HTTP/1.1 200 OK\"\n",
      "INFO:httpx:HTTP Request: POST http://127.0.0.1:8000/mcp/ \"HTTP/1.1 200 OK\"\n",
      "INFO:httpx:HTTP Request: POST http://127.0.0.1:8000/mcp/ \"HTTP/1.1 200 OK\"\n",
      "INFO:httpx:HTTP Request: DELETE http://127.0.0.1:8000/mcp/ \"HTTP/1.1 200 OK\"\n",
      "INFO:httpx:HTTP Request: POST https://ksg-openai-swedencentral.openai.azure.com/openai/deployments/gpt-4o/chat/completions?api-version=2025-04-01-preview \"HTTP/1.1 200 OK\"\n"
     ]
    },
    {
     "name": "stdout",
     "output_type": "stream",
     "text": [
      "Here are some hotel options for your two-week stay in New York during October:\n",
      "\n",
      "### 🏨 **Hotel Options**\n",
      "\n",
      "1. **Fairfield Inn by Marriott New York Manhattan Financial District**\n",
      "   - **Room Type**: 2 Twin Beds, Mini fridge, Complimentary WiFi\n",
      "   - **Price**: $5,011.70 (total for stay)\n",
      "   - **Cancellation Policy**: Refundable up to 2025-09-30 with a fee of $351.42\n",
      "   - **Location**: Financial District, Manhattan\n",
      "\n",
      "2. **Hilton Garden Inn New York - Tribeca**\n",
      "   - **Room Type**: 1 King Bed, Adjustable firmness dial, Refrigerator, Microwave\n",
      "   - **Price**: $7,776.94 (total for stay)\n",
      "   - **Cancellation Policy**: Refundable up to 2025-09-30 with a fee of $438.00\n",
      "   - **Location**: Tribeca, Manhattan\n",
      "\n",
      "3. **Loews Santa Monica Beach Hotel**\n",
      "   - **Room Type**: Standard Room\n",
      "   - **Price**: $5,720.43 (total for stay)\n",
      "   - **Cancellation Policy**: Refundable\n",
      "   - **Location**: Near Financial District, Manhattan\n",
      "\n",
      "4. **Residence Inn by Marriott NY Downtown Manhattan World Trade Center Area**\n",
      "   - **Room Type**: 1 King Bed, Kitchenette, Microwave\n",
      "   - **Price**: $6,482.00 (total for stay)\n",
      "   - **Cancellation Policy**: Non-refundable\n",
      "   - **Location**: World Trade Center Area, Manhattan\n",
      "\n",
      "5. **Sheraton Tribeca New York Hotel**\n",
      "   - **Room Type**: Traditional King, 1 King Bed, WiFi (for a fee)\n",
      "   - **Price**: $5,960.98 (total for stay)\n",
      "   - **Cancellation Policy**: Refundable up to 2025-09-29 with a fee of $415.46\n",
      "   - **Location**: Tribeca, Manhattan\n",
      "\n",
      "Let me know if you'd like to book one of these or need more details!"
     ]
    }
   ],
   "source": [
    "await stream_graph_updates_async(travel_agent, \"I am planning on staying two weeks on New york october, what hotels do you recommend me?\")"
   ]
  },
  {
   "cell_type": "code",
   "execution_count": 29,
   "metadata": {},
   "outputs": [
    {
     "name": "stderr",
     "output_type": "stream",
     "text": [
      "INFO:httpx:HTTP Request: POST https://ksg-openai-swedencentral.openai.azure.com/openai/deployments/gpt-4o/chat/completions?api-version=2025-04-01-preview \"HTTP/1.1 200 OK\"\n"
     ]
    },
    {
     "name": "stdout",
     "output_type": "stream",
     "text": [
      "\n",
      "--\n",
      "Calling tool: search_flights with inputs: {'origin': 'EZE', 'destination': 'JFK', 'departure_date': '2025-10-15', 'adults': 1, 'travel_class': 'ECONOMY', 'currency': 'USD', 'max_results': 10}\n",
      "--\n"
     ]
    },
    {
     "name": "stderr",
     "output_type": "stream",
     "text": [
      "INFO:httpx:HTTP Request: POST http://127.0.0.1:8000/mcp/ \"HTTP/1.1 200 OK\"\n",
      "INFO:mcp.client.streamable_http:Received session ID: 080c59f11cac452c9057e999face6204\n",
      "INFO:mcp.client.streamable_http:Negotiated protocol version: 2025-06-18\n",
      "INFO:httpx:HTTP Request: POST http://127.0.0.1:8000/mcp/ \"HTTP/1.1 202 Accepted\"\n",
      "INFO:httpx:HTTP Request: GET http://127.0.0.1:8000/mcp/ \"HTTP/1.1 200 OK\"\n",
      "INFO:httpx:HTTP Request: POST http://127.0.0.1:8000/mcp/ \"HTTP/1.1 200 OK\"\n",
      "INFO:httpx:HTTP Request: POST http://127.0.0.1:8000/mcp/ \"HTTP/1.1 200 OK\"\n",
      "INFO:httpx:HTTP Request: DELETE http://127.0.0.1:8000/mcp/ \"HTTP/1.1 200 OK\"\n",
      "INFO:httpx:HTTP Request: POST https://ksg-openai-swedencentral.openai.azure.com/openai/deployments/gpt-4o/chat/completions?api-version=2025-04-01-preview \"HTTP/1.1 200 OK\"\n"
     ]
    },
    {
     "name": "stdout",
     "output_type": "stream",
     "text": [
      "\n",
      "--\n",
      "Calling tool: get_flight_price with inputs: {'flight_offer': '{\"type\":\"flight-offer\",\"id\":\"1\",\"source\":\"GDS\",\"instantTicketingRequired\":false,\"nonHomogeneous\":false,\"oneWay\":false,\"isUpsellOffer\":false,\"lastTicketingDate\":\"2025-08-15\",\"lastTicketingDateTime\":\"2025-08-15\",\"numberOfBookableSeats\":7,\"itineraries\":[{\"duration\":\"PT14H10M\",\"segments\":[{\"departure\":{\"iataCode\":\"EZE\",\"terminal\":\"P\",\"at\":\"2025-10-15T07:40:00\"},\"arrival\":{\"iataCode\":\"LIM\",\"at\":\"2025-10-15T10:35:00\"},\"carrierCode\":\"LA\",\"number\":\"2464\",\"aircraft\":{\"code\":\"320\"},\"operating\":{\"carrierName\":\"LATAM AIRLINES PERU\"},\"duration\":\"PT4H55M\",\"id\":\"3\",\"numberOfStops\":0,\"blacklistedInEU\":false},{\"departure\":{\"iataCode\":\"LIM\",\"at\":\"2025-10-15T12:00:00\"},\"arrival\":{\"iataCode\":\"JFK\",\"terminal\":\"4\",\"at\":\"2025-10-15T20:50:00\"},\"carrierCode\":\"LA\",\"number\":\"538\",\"aircraft\":{\"code\":\"788\"},\"operating\":{\"carrierName\":\"LATAM AIRLINES GROUP\"},\"duration\":\"PT7H50M\",\"id\":\"4\",\"numberOfStops\":0,\"blacklistedInEU\":false}]}],\"price\":{\"currency\":\"USD\",\"total\":\"476.51\",\"base\":\"300.00\",\"fees\":[{\"amount\":\"0.00\",\"type\":\"SUPPLIER\"},{\"amount\":\"0.00\",\"type\":\"TICKETING\"}],\"grandTotal\":\"476.51\",\"additionalServices\":[{\"amount\":\"70.00\",\"type\":\"CHECKED_BAGS\"}]},\"pricingOptions\":{\"fareType\":[\"PUBLISHED\"],\"includedCheckedBagsOnly\":false},\"validatingAirlineCodes\":[\"LA\"],\"travelerPricings\":[{\"travelerId\":\"1\",\"fareOption\":\"STANDARD\",\"travelerType\":\"ADULT\",\"price\":{\"currency\":\"USD\",\"total\":\"476.51\",\"base\":\"300.00\"},\"fareDetailsBySegment\":[{\"segmentId\":\"3\",\"cabin\":\"ECONOMY\",\"fareBasis\":\"QLTSLZ9E\",\"brandedFare\":\"SL\",\"brandedFareLabel\":\"LIGHT\",\"class\":\"Q\",\"includedCheckedBags\":{\"quantity\":0},\"includedCabinBags\":{\"weight\":12,\"weightUnit\":\"KG\"},\"amenities\":[{\"description\":\"FIRST EXCESS BAG\",\"isChargeable\":true,\"amenityType\":\"BAGGAGE\",\"amenityProvider\":{\"name\":\"BrandedFare\"}},{\"description\":\"SECOND EXCESS BAG\",\"isChargeable\":true,\"amenityType\":\"BAGGAGE\",\"amenityProvider\":{\"name\":\"BrandedFare\"}},{\"description\":\"THIRD BAG 23KG\",\"isChargeable\":true,\"amenityType\":\"BAGGAGE\",\"amenityProvider\":{\"name\":\"BrandedFare\"}},{\"description\":\"BASIC SEAT RESERVATION\",\"isChargeable\":true,\"amenityType\":\"BRANDED_FARES\",\"amenityProvider\":{\"name\":\"BrandedFare\"}},{\"description\":\"PREMIUM SEAT RESERVATION\",\"isChargeable\":true,\"amenityType\":\"BRANDED_FARES\",\"amenityProvider\":{\"name\":\"BrandedFare\"}},{\"description\":\"CHANGE BEFORE DEPARTURE\",\"isChargeable\":true,\"amenityType\":\"BRANDED_FARES\",\"amenityProvider\":{\"name\":\"BrandedFare\"}},{\"description\":\"CHANGE AFTER DEPARTURE\",\"isChargeable\":true,\"amenityType\":\"BRANDED_FARES\",\"amenityProvider\":{\"name\":\"BrandedFare\"}}]},{\"segmentId\":\"4\",\"cabin\":\"ECONOMY\",\"fareBasis\":\"QLTSLZ9E\",\"brandedFare\":\"SL\",\"brandedFareLabel\":\"LIGHT\",\"class\":\"Q\",\"includedCheckedBags\":{\"quantity\":0},\"includedCabinBags\":{\"weight\":12,\"weightUnit\":\"KG\"},\"amenities\":[{\"description\":\"FIRST EXCESS BAG\",\"isChargeable\":true,\"amenityType\":\"BAGGAGE\",\"amenityProvider\":{\"name\":\"BrandedFare\"}},{\"description\":\"SECOND EXCESS BAG\",\"isChargeable\":true,\"amenityType\":\"BAGGAGE\",\"amenityProvider\":{\"name\":\"BrandedFare\"}},{\"description\":\"THIRD BAG 23KG\",\"isChargeable\":true,\"amenityType\":\"BAGGAGE\",\"amenityProvider\":{\"name\":\"BrandedFare\"}},{\"description\":\"BASIC SEAT RESERVATION\",\"isChargeable\":true,\"amenityType\":\"BRANDED_FARES\",\"amenityProvider\":{\"name\":\"BrandedFare\"}},{\"description\":\"PREMIUM SEAT RESERVATION\",\"isChargeable\":true,\"amenityType\":\"BRANDED_FARES\",\"amenityProvider\":{\"name\":\"BrandedFare\"}},{\"description\":\"CHANGE BEFORE DEPARTURE\",\"isChargeable\":true,\"amenityType\":\"BRANDED_FARES\",\"amenityProvider\":{\"name\":\"BrandedFare\"}},{\"description\":\"CHANGE AFTER DEPARTURE\",\"isChargeable\":true,\"amenityType\":\"BRANDED_FARES\",\"amenityProvider\":{\"name\":\"BrandedFare\"}}]}]}]}'}\n",
      "--\n"
     ]
    },
    {
     "name": "stderr",
     "output_type": "stream",
     "text": [
      "INFO:httpx:HTTP Request: POST http://127.0.0.1:8000/mcp/ \"HTTP/1.1 200 OK\"\n",
      "INFO:mcp.client.streamable_http:Received session ID: ba29e4a8acc34ceda33f5e8d1516a3b8\n",
      "INFO:mcp.client.streamable_http:Negotiated protocol version: 2025-06-18\n",
      "INFO:httpx:HTTP Request: POST http://127.0.0.1:8000/mcp/ \"HTTP/1.1 202 Accepted\"\n",
      "INFO:httpx:HTTP Request: GET http://127.0.0.1:8000/mcp/ \"HTTP/1.1 200 OK\"\n",
      "INFO:httpx:HTTP Request: POST http://127.0.0.1:8000/mcp/ \"HTTP/1.1 200 OK\"\n",
      "INFO:httpx:HTTP Request: POST http://127.0.0.1:8000/mcp/ \"HTTP/1.1 200 OK\"\n",
      "INFO:httpx:HTTP Request: DELETE http://127.0.0.1:8000/mcp/ \"HTTP/1.1 200 OK\"\n",
      "INFO:httpx:HTTP Request: POST https://ksg-openai-swedencentral.openai.azure.com/openai/deployments/gpt-4o/chat/completions?api-version=2025-04-01-preview \"HTTP/1.1 200 OK\"\n"
     ]
    },
    {
     "name": "stdout",
     "output_type": "stream",
     "text": [
      "\n",
      "--\n",
      "Calling tool: create_flight_booking with inputs: {'flight_offer': '{\"type\":\"flight-offer\",\"id\":\"1\",\"source\":\"GDS\",\"instantTicketingRequired\":false,\"nonHomogeneous\":false,\"paymentCardRequired\":false,\"lastTicketingDate\":\"2025-08-15\",\"itineraries\":[{\"segments\":[{\"departure\":{\"iataCode\":\"EZE\",\"terminal\":\"P\",\"at\":\"2025-10-15T07:40:00\"},\"arrival\":{\"iataCode\":\"LIM\",\"at\":\"2025-10-15T10:35:00\"},\"carrierCode\":\"LA\",\"number\":\"2464\",\"aircraft\":{\"code\":\"320\"},\"operating\":{\"carrierCode\":\"LA\"},\"duration\":\"PT4H55M\",\"id\":\"3\",\"numberOfStops\":0,\"co2Emissions\":[{\"weight\":237,\"weightUnit\":\"KG\",\"cabin\":\"ECONOMY\"}]},{\"departure\":{\"iataCode\":\"LIM\",\"at\":\"2025-10-15T12:00:00\"},\"arrival\":{\"iataCode\":\"JFK\",\"terminal\":\"4\",\"at\":\"2025-10-15T20:50:00\"},\"carrierCode\":\"LA\",\"number\":\"538\",\"aircraft\":{\"code\":\"788\"},\"operating\":{\"carrierCode\":\"LA\"},\"duration\":\"PT7H50M\",\"id\":\"4\",\"numberOfStops\":0,\"co2Emissions\":[{\"weight\":323,\"weightUnit\":\"KG\",\"cabin\":\"ECONOMY\"}]}]}],\"price\":{\"currency\":\"USD\",\"total\":\"476.51\",\"base\":\"300.00\",\"fees\":[{\"amount\":\"0.00\",\"type\":\"SUPPLIER\"},{\"amount\":\"0.00\",\"type\":\"TICKETING\"},{\"amount\":\"0.00\",\"type\":\"FORM_OF_PAYMENT\"}],\"grandTotal\":\"476.51\",\"billingCurrency\":\"USD\"},\"pricingOptions\":{\"fareType\":[\"PUBLISHED\"],\"includedCheckedBagsOnly\":false},\"validatingAirlineCodes\":[\"LA\"],\"travelerPricings\":[{\"travelerId\":\"1\",\"fareOption\":\"STANDARD\",\"travelerType\":\"ADULT\",\"price\":{\"currency\":\"USD\",\"total\":\"476.51\",\"base\":\"300.00\",\"taxes\":[{\"amount\":\"23.50\",\"code\":\"AR\"},{\"amount\":\"7.00\",\"code\":\"XY\"},{\"amount\":\"1.40\",\"code\":\"S7\"},{\"amount\":\"35.80\",\"code\":\"YR\"},{\"amount\":\"3.71\",\"code\":\"XA\"},{\"amount\":\"57.00\",\"code\":\"XR\"},{\"amount\":\"7.20\",\"code\":\"YC\"},{\"amount\":\"8.00\",\"code\":\"TQ\"},{\"amount\":\"10.00\",\"code\":\"QO\"},{\"amount\":\"22.90\",\"code\":\"US\"}],\"refundableTaxes\":\"176.51\"},\"fareDetailsBySegment\":[{\"segmentId\":\"3\",\"cabin\":\"ECONOMY\",\"fareBasis\":\"QLTSLZ9E\",\"brandedFare\":\"SL\",\"class\":\"Q\",\"includedCheckedBags\":{\"quantity\":0}},{\"segmentId\":\"4\",\"cabin\":\"ECONOMY\",\"fareBasis\":\"QLTSLZ9E\",\"brandedFare\":\"SL\",\"class\":\"Q\",\"includedCheckedBags\":{\"quantity\":0}}]}]}', 'travelers': [{'id': '1', 'dateOfBirth': '1990-01-01', 'name': {'firstName': 'John', 'lastName': 'Doe'}, 'gender': 'MALE', 'contact': {'emailAddress': 'john.doe@email.com', 'phones': [{'deviceType': 'MOBILE', 'countryCallingCode': '1', 'number': '5551234567'}]}, 'documents': [{'documentType': 'PASSPORT', 'birthPlace': 'USA', 'issuanceLocation': 'USA', 'issuanceDate': '2020-01-01', 'number': 'AB123456', 'expiryDate': '2030-01-01', 'issuanceCountry': 'US', 'validityCountry': 'US', 'nationality': 'US', 'holder': True}]}], 'contact': {'emailAddress': 'john.doe@email.com', 'phones': [{'deviceType': 'MOBILE', 'countryCallingCode': '1', 'number': '5551234567'}]}}\n",
      "--\n"
     ]
    },
    {
     "name": "stderr",
     "output_type": "stream",
     "text": [
      "INFO:httpx:HTTP Request: POST http://127.0.0.1:8000/mcp/ \"HTTP/1.1 200 OK\"\n",
      "INFO:mcp.client.streamable_http:Received session ID: cc38571c66a44860b666816bf20a4158\n",
      "INFO:mcp.client.streamable_http:Negotiated protocol version: 2025-06-18\n",
      "INFO:httpx:HTTP Request: POST http://127.0.0.1:8000/mcp/ \"HTTP/1.1 202 Accepted\"\n",
      "INFO:httpx:HTTP Request: GET http://127.0.0.1:8000/mcp/ \"HTTP/1.1 200 OK\"\n",
      "INFO:httpx:HTTP Request: POST http://127.0.0.1:8000/mcp/ \"HTTP/1.1 200 OK\"\n",
      "INFO:httpx:HTTP Request: POST http://127.0.0.1:8000/mcp/ \"HTTP/1.1 200 OK\"\n",
      "INFO:httpx:HTTP Request: DELETE http://127.0.0.1:8000/mcp/ \"HTTP/1.1 200 OK\"\n",
      "INFO:httpx:HTTP Request: POST https://ksg-openai-swedencentral.openai.azure.com/openai/deployments/gpt-4o/chat/completions?api-version=2025-04-01-preview \"HTTP/1.1 200 OK\"\n"
     ]
    },
    {
     "name": "stdout",
     "output_type": "stream",
     "text": [
      "✅ **Booking Confirmed!**\n",
      "\n",
      "📋 **Confirmation Number**: `eJzTd9e39Hd0CnUDAArMAkw%3D`\n",
      "🔖 **Flight Details**:\n",
      "- **Departure**: Buenos Aires (EZE) on **2025-10-15** at **07:40 AM** (Terminal P)\n",
      "- **Arrival**: New York (JFK) on **2025-10-15** at **08:50 PM** (Terminal 4)\n",
      "- **Airline**: LATAM Airlines\n",
      "- **Flight Numbers**: LA2464 (EZE to LIM), LA538 (LIM to JFK)\n",
      "- **Duration**: 14 hours 10 minutes (including layover in Lima)\n",
      "\n",
      "👤 **Passenger**: John Doe  \n",
      "📧 **Email**: john.doe@email.com  \n",
      "📞 **Phone**: +1-555-1234567  \n",
      "💰 **Total Price**: $476.51 USD  \n",
      "\n",
      "**Important**: Please save your confirmation number for future reference. You will receive an email with all the booking details shortly.\n",
      "\n",
      "Let me know if you need assistance with anything else! 🌍✈️"
     ]
    }
   ],
   "source": [
    "# Let's try a complete booking scenario using the travel agent\n",
    "await stream_graph_updates_async(travel_agent, \"\"\"\n",
    "I want to book the cheapest LATAM flight from Buenos Aires to New York on October 15th, 2025. \n",
    "My details are:\n",
    "- Name: John Doe\n",
    "- DOB: 1990-01-01  \n",
    "- Email: john.doe@email.com\n",
    "- Phone: +1-555-1234567\n",
    "- Passport: AB123456 (US passport, expires 2030-01-01)\n",
    "\n",
    "Can you help me with the complete booking process?\n",
    "\"\"\")"
   ]
  },
  {
   "cell_type": "markdown",
   "metadata": {},
   "source": [
    "## Understanding MCP Resources and Prompts\n",
    "\n",
    "Beyond tools, MCP servers can provide two additional powerful capabilities: **Resources** and **Prompts**. These extend the server from a simple tool provider to a complete intelligence platform.\n",
    "\n",
    "### MCP Resources 📚\n",
    "\n",
    "**MCP Resources** are static or semi-static data sources that serve as a knowledge base for AI agents. Think of them as the \"memory\" or \"reference library\" of your MCP server.\n",
    "\n",
    "#### What Resources Provide:\n",
    "- **Reference Data** - Static information like airport codes, airline information\n",
    "- **Status Information** - Real-time server health, API connectivity, rate limits  \n",
    "- **Configuration Data** - Available services, capabilities, settings\n",
    "- **Documentation** - Help agents understand available services and data"
   ]
  },
  {
   "cell_type": "code",
   "execution_count": 16,
   "metadata": {},
   "outputs": [],
   "source": [
    "@mcp_server.resource(\"travel://amadeus-status\")\n",
    "def get_amadeus_status() -> str:\n",
    "    \"\"\"Get the current status of Amadeus API connection\"\"\"\n",
    "    try:\n",
    "        # Try to get an access token\n",
    "        token = amadeus_client.get_access_token()\n",
    "        \n",
    "        status = {\n",
    "            \"connected\": True,\n",
    "            \"environment\": \"TEST\" if \"test\" in BASE_URL else \"PRODUCTION\",\n",
    "            \"api_url\": BASE_URL,\n",
    "            \"token_valid\": token is not None,\n",
    "            \"timestamp\": datetime.now().isoformat(),\n",
    "            \"rate_limits\": {\n",
    "                \"flight_search\": \"10 transactions per second\",\n",
    "                \"hotel_search\": \"10 transactions per second\", \n",
    "                \"booking\": \"2 transactions per second\"\n",
    "            }\n",
    "        }\n",
    "        \n",
    "        return json.dumps(status, indent=2)\n",
    "        \n",
    "    except Exception as e:\n",
    "        status = {\n",
    "            \"connected\": False,\n",
    "            \"error\": str(e),\n",
    "            \"environment\": \"TEST\" if \"test\" in BASE_URL else \"PRODUCTION\",\n",
    "            \"api_url\": BASE_URL,\n",
    "            \"timestamp\": datetime.now().isoformat()\n",
    "        }\n",
    "        \n",
    "        return json.dumps(status, indent=2)\n",
    "\n",
    "@mcp_server.resource(\"travel://supported-features\")\n",
    "def get_supported_features() -> str:\n",
    "    \"\"\"Get list of supported features and endpoints\"\"\"\n",
    "    features = {\n",
    "        \"flight_search\": {\n",
    "            \"description\": \"Search for flights between airports\",\n",
    "            \"endpoints\": [\"/v2/shopping/flight-offers\"],\n",
    "            \"features\": [\"One-way\", \"Round-trip\", \"Multi-city\", \"Cabin class selection\", \"Nonstop filtering\"],\n",
    "            \"parameters\": [\"origin\", \"destination\", \"departure_date\", \"return_date\", \"adults\", \"children\", \"infants\", \"travel_class\"]\n",
    "        },\n",
    "        \"hotel_search\": {\n",
    "            \"description\": \"Search for hotels in cities\",\n",
    "            \"endpoints\": [\"/v1/reference-data/locations/hotels/by-city\", \"/v3/shopping/hotel-offers\"],\n",
    "            \"features\": [\"City search\", \"Amenity filtering\", \"Price range\", \"Star ratings\"],\n",
    "            \"parameters\": [\"city_code\", \"check_in\", \"check_out\", \"adults\", \"room_quantity\", \"amenities\", \"ratings\"]\n",
    "        },\n",
    "        \"flight_booking\": {\n",
    "            \"description\": \"Create flight bookings (test environment)\",\n",
    "            \"endpoints\": [\"/v1/booking/flight-orders\"],\n",
    "            \"features\": [\"Test bookings\", \"Multi-passenger\", \"Special requests\"],\n",
    "            \"parameters\": [\"flight_offer\", \"travelers\", \"contact\"]\n",
    "        },\n",
    "        \"reference_data\": {\n",
    "            \"description\": \"Access reference data for travel\",\n",
    "            \"endpoints\": [\"/v1/reference-data/locations\", \"/v1/reference-data/airlines\"],\n",
    "            \"features\": [\"Airport search\", \"City codes\", \"Airline information\"],\n",
    "            \"parameters\": [\"keyword\", \"country_code\", \"carrier_code\"]\n",
    "        },\n",
    "        \"flight_status\": {\n",
    "            \"description\": \"Check flight status\",\n",
    "            \"endpoints\": [\"/v2/schedule/flights\"],\n",
    "            \"features\": [\"Real-time status\", \"Schedule information\"],\n",
    "            \"parameters\": [\"carrier_code\", \"flight_number\", \"scheduled_departure_date\"]\n",
    "        }\n",
    "    }\n",
    "    \n",
    "    return json.dumps(features, indent=2)\n",
    "\n",
    "@mcp_server.resource(\"travel://airport-codes\")\n",
    "def get_major_airports() -> str:\n",
    "    \"\"\"Get information about major international airports\"\"\"\n",
    "    airports = {\n",
    "        \"north_america\": {\n",
    "            \"JFK\": {\n",
    "                \"name\": \"John F. Kennedy International Airport\",\n",
    "                \"city\": \"New York\",\n",
    "                \"country\": \"United States\",\n",
    "                \"iata\": \"JFK\",\n",
    "                \"icao\": \"KJFK\",\n",
    "                \"timezone\": \"America/New_York\",\n",
    "                \"terminals\": 6,\n",
    "                \"coordinates\": {\"lat\": 40.6413, \"lon\": -73.7781}\n",
    "            },\n",
    "            \"LAX\": {\n",
    "                \"name\": \"Los Angeles International Airport\", \n",
    "                \"city\": \"Los Angeles\",\n",
    "                \"country\": \"United States\",\n",
    "                \"iata\": \"LAX\",\n",
    "                \"icao\": \"KLAX\",\n",
    "                \"timezone\": \"America/Los_Angeles\",\n",
    "                \"terminals\": 9,\n",
    "                \"coordinates\": {\"lat\": 33.9425, \"lon\": -118.4081}\n",
    "            },\n",
    "            \"ORD\": {\n",
    "                \"name\": \"O'Hare International Airport\",\n",
    "                \"city\": \"Chicago\",\n",
    "                \"country\": \"United States\",\n",
    "                \"iata\": \"ORD\",\n",
    "                \"icao\": \"KORD\",\n",
    "                \"timezone\": \"America/Chicago\",\n",
    "                \"terminals\": 5,\n",
    "                \"coordinates\": {\"lat\": 41.9742, \"lon\": -87.9073}\n",
    "            },\n",
    "            \"YYZ\": {\n",
    "                \"name\": \"Toronto Pearson International Airport\",\n",
    "                \"city\": \"Toronto\",\n",
    "                \"country\": \"Canada\",\n",
    "                \"iata\": \"YYZ\",\n",
    "                \"icao\": \"CYYZ\",\n",
    "                \"timezone\": \"America/Toronto\",\n",
    "                \"terminals\": 3,\n",
    "                \"coordinates\": {\"lat\": 43.6777, \"lon\": -79.6248}\n",
    "            }\n",
    "        },\n",
    "        \"europe\": {\n",
    "            \"LHR\": {\n",
    "                \"name\": \"Heathrow Airport\",\n",
    "                \"city\": \"London\",\n",
    "                \"country\": \"United Kingdom\",\n",
    "                \"iata\": \"LHR\",\n",
    "                \"icao\": \"EGLL\",\n",
    "                \"timezone\": \"Europe/London\",\n",
    "                \"terminals\": 5,\n",
    "                \"coordinates\": {\"lat\": 51.4700, \"lon\": -0.4543}\n",
    "            },\n",
    "            \"CDG\": {\n",
    "                \"name\": \"Charles de Gaulle Airport\",\n",
    "                \"city\": \"Paris\",\n",
    "                \"country\": \"France\",\n",
    "                \"iata\": \"CDG\",\n",
    "                \"icao\": \"LFPG\",\n",
    "                \"timezone\": \"Europe/Paris\",\n",
    "                \"terminals\": 3,\n",
    "                \"coordinates\": {\"lat\": 49.0097, \"lon\": 2.5479}\n",
    "            },\n",
    "            \"FRA\": {\n",
    "                \"name\": \"Frankfurt Airport\",\n",
    "                \"city\": \"Frankfurt\",\n",
    "                \"country\": \"Germany\",\n",
    "                \"iata\": \"FRA\",\n",
    "                \"icao\": \"EDDF\",\n",
    "                \"timezone\": \"Europe/Berlin\",\n",
    "                \"terminals\": 2,\n",
    "                \"coordinates\": {\"lat\": 50.0264, \"lon\": 8.5431}\n",
    "            },\n",
    "            \"AMS\": {\n",
    "                \"name\": \"Amsterdam Airport Schiphol\",\n",
    "                \"city\": \"Amsterdam\",\n",
    "                \"country\": \"Netherlands\",\n",
    "                \"iata\": \"AMS\",\n",
    "                \"icao\": \"EHAM\",\n",
    "                \"timezone\": \"Europe/Amsterdam\",\n",
    "                \"terminals\": 3,\n",
    "                \"coordinates\": {\"lat\": 52.3105, \"lon\": 4.7683}\n",
    "            }\n",
    "        },\n",
    "        \"asia_pacific\": {\n",
    "            \"NRT\": {\n",
    "                \"name\": \"Narita International Airport\",\n",
    "                \"city\": \"Tokyo\",\n",
    "                \"country\": \"Japan\",\n",
    "                \"iata\": \"NRT\",\n",
    "                \"icao\": \"RJAA\",\n",
    "                \"timezone\": \"Asia/Tokyo\",\n",
    "                \"terminals\": 3,\n",
    "                \"coordinates\": {\"lat\": 35.7720, \"lon\": 140.3929}\n",
    "            },\n",
    "            \"SIN\": {\n",
    "                \"name\": \"Singapore Changi Airport\",\n",
    "                \"city\": \"Singapore\",\n",
    "                \"country\": \"Singapore\",\n",
    "                \"iata\": \"SIN\",\n",
    "                \"icao\": \"WSSS\",\n",
    "                \"timezone\": \"Asia/Singapore\",\n",
    "                \"terminals\": 4,\n",
    "                \"coordinates\": {\"lat\": 1.3644, \"lon\": 103.9915}\n",
    "            },\n",
    "            \"HKG\": {\n",
    "                \"name\": \"Hong Kong International Airport\",\n",
    "                \"city\": \"Hong Kong\",\n",
    "                \"country\": \"China\",\n",
    "                \"iata\": \"HKG\",\n",
    "                \"icao\": \"VHHH\",\n",
    "                \"timezone\": \"Asia/Hong_Kong\",\n",
    "                \"terminals\": 2,\n",
    "                \"coordinates\": {\"lat\": 22.3080, \"lon\": 113.9185}\n",
    "            },\n",
    "            \"SYD\": {\n",
    "                \"name\": \"Sydney Kingsford Smith Airport\",\n",
    "                \"city\": \"Sydney\",\n",
    "                \"country\": \"Australia\",\n",
    "                \"iata\": \"SYD\",\n",
    "                \"icao\": \"YSSY\",\n",
    "                \"timezone\": \"Australia/Sydney\",\n",
    "                \"terminals\": 3,\n",
    "                \"coordinates\": {\"lat\": -33.9399, \"lon\": 151.1753}\n",
    "            }\n",
    "        }\n",
    "    }\n",
    "    \n",
    "    return json.dumps(airports, indent=2)\n",
    "\n",
    "@mcp_server.resource(\"travel://airline-codes\")\n",
    "def get_major_airlines() -> str:\n",
    "    \"\"\"Get information about major international airlines\"\"\"\n",
    "    airlines = {\n",
    "        \"full_service_carriers\": {\n",
    "            \"AA\": {\n",
    "                \"name\": \"American Airlines\",\n",
    "                \"country\": \"United States\",\n",
    "                \"iata\": \"AA\",\n",
    "                \"icao\": \"AAL\",\n",
    "                \"callsign\": \"AMERICAN\",\n",
    "                \"hubs\": [\"DFW\", \"CLT\", \"PHX\", \"MIA\"],\n",
    "                \"alliance\": \"oneworld\"\n",
    "            },\n",
    "            \"DL\": {\n",
    "                \"name\": \"Delta Air Lines\",\n",
    "                \"country\": \"United States\", \n",
    "                \"iata\": \"DL\",\n",
    "                \"icao\": \"DAL\",\n",
    "                \"callsign\": \"DELTA\",\n",
    "                \"hubs\": [\"ATL\", \"DTW\", \"MSP\", \"SEA\"],\n",
    "                \"alliance\": \"SkyTeam\"\n",
    "            },\n",
    "            \"UA\": {\n",
    "                \"name\": \"United Airlines\",\n",
    "                \"country\": \"United States\",\n",
    "                \"iata\": \"UA\", \n",
    "                \"icao\": \"UAL\",\n",
    "                \"callsign\": \"UNITED\",\n",
    "                \"hubs\": [\"ORD\", \"DEN\", \"EWR\", \"SFO\"],\n",
    "                \"alliance\": \"Star Alliance\"\n",
    "            },\n",
    "            \"BA\": {\n",
    "                \"name\": \"British Airways\",\n",
    "                \"country\": \"United Kingdom\",\n",
    "                \"iata\": \"BA\",\n",
    "                \"icao\": \"BAW\",\n",
    "                \"callsign\": \"SPEEDBIRD\",\n",
    "                \"hubs\": [\"LHR\", \"LGW\"],\n",
    "                \"alliance\": \"oneworld\"\n",
    "            },\n",
    "            \"LH\": {\n",
    "                \"name\": \"Lufthansa\",\n",
    "                \"country\": \"Germany\",\n",
    "                \"iata\": \"LH\",\n",
    "                \"icao\": \"DLH\", \n",
    "                \"callsign\": \"LUFTHANSA\",\n",
    "                \"hubs\": [\"FRA\", \"MUC\"],\n",
    "                \"alliance\": \"Star Alliance\"\n",
    "            }\n",
    "        },\n",
    "        \"low_cost_carriers\": {\n",
    "            \"B6\": {\n",
    "                \"name\": \"JetBlue Airways\",\n",
    "                \"country\": \"United States\",\n",
    "                \"iata\": \"B6\",\n",
    "                \"icao\": \"JBU\",\n",
    "                \"callsign\": \"JETBLUE\",\n",
    "                \"hubs\": [\"JFK\", \"BOS\", \"FLL\"],\n",
    "                \"alliance\": \"None\"\n",
    "            },\n",
    "            \"WN\": {\n",
    "                \"name\": \"Southwest Airlines\",\n",
    "                \"country\": \"United States\",\n",
    "                \"iata\": \"WN\",\n",
    "                \"icao\": \"SWA\",\n",
    "                \"callsign\": \"SOUTHWEST\",\n",
    "                \"hubs\": [\"DAL\", \"DEN\", \"BWI\"],\n",
    "                \"alliance\": \"None\"\n",
    "            },\n",
    "            \"FR\": {\n",
    "                \"name\": \"Ryanair\",\n",
    "                \"country\": \"Ireland\",\n",
    "                \"iata\": \"FR\",\n",
    "                \"icao\": \"RYR\",\n",
    "                \"callsign\": \"RYANAIR\", \n",
    "                \"hubs\": [\"DUB\", \"STN\", \"BGY\"],\n",
    "                \"alliance\": \"None\"\n",
    "            }\n",
    "        }\n",
    "    }\n",
    "    \n",
    "    return json.dumps(airlines, indent=2)\n",
    "\n",
    "@mcp_server.resource(\"travel://travel-classes\")\n",
    "def get_travel_classes() -> str:\n",
    "    \"\"\"Get information about different travel classes and their features\"\"\"\n",
    "    travel_classes = {\n",
    "        \"ECONOMY\": {\n",
    "            \"description\": \"Basic economy class with standard amenities\",\n",
    "            \"features\": [\n",
    "                \"Standard seat pitch (28-32 inches)\",\n",
    "                \"Basic meal service on long flights\",\n",
    "                \"Personal entertainment on most aircraft\",\n",
    "                \"One carry-on bag included\",\n",
    "                \"Standard baggage allowance\"\n",
    "            ],\n",
    "            \"typical_airlines\": [\"All major carriers\"]\n",
    "        },\n",
    "        \"PREMIUM_ECONOMY\": {\n",
    "            \"description\": \"Enhanced economy with extra comfort and services\",\n",
    "            \"features\": [\n",
    "                \"Increased seat pitch (34-38 inches)\",\n",
    "                \"Enhanced meal service\",\n",
    "                \"Priority boarding\",\n",
    "                \"Extra baggage allowance\",\n",
    "                \"Premium entertainment options\"\n",
    "            ],\n",
    "            \"typical_airlines\": [\"AA\", \"DL\", \"UA\", \"BA\", \"LH\", \"AF\"]\n",
    "        },\n",
    "        \"BUSINESS\": {\n",
    "            \"description\": \"Premium business class with luxury amenities\",\n",
    "            \"features\": [\n",
    "                \"Lie-flat or angle-flat seats\",\n",
    "                \"Gourmet meal service\",\n",
    "                \"Priority check-in and boarding\",\n",
    "                \"Lounge access\",\n",
    "                \"Increased baggage allowance\",\n",
    "                \"Premium entertainment and amenity kits\"\n",
    "            ],\n",
    "            \"typical_airlines\": [\"All full-service carriers\"]\n",
    "        },\n",
    "        \"FIRST\": {\n",
    "            \"description\": \"Ultra-premium first class with maximum luxury\",\n",
    "            \"features\": [\n",
    "                \"Private suites or fully flat beds\",\n",
    "                \"Multi-course gourmet dining\",\n",
    "                \"Dedicated check-in and boarding\",\n",
    "                \"Premium lounge access\",\n",
    "                \"Maximum baggage allowance\",\n",
    "                \"Personal service and luxury amenities\"\n",
    "            ],\n",
    "            \"typical_airlines\": [\"AA\", \"BA\", \"LH\", \"AF\", \"SQ\", \"EK\"]\n",
    "        }\n",
    "    }\n",
    "    \n",
    "    return json.dumps(travel_classes, indent=2)\n",
    "\n",
    "@mcp_server.resource(\"travel://booking-guidelines\")\n",
    "def get_booking_guidelines() -> str:\n",
    "    \"\"\"Get comprehensive guidelines for travel booking\"\"\"\n",
    "    guidelines = {\n",
    "        \"general_tips\": {\n",
    "            \"advance_booking\": {\n",
    "                \"domestic_flights\": \"Book 1-3 months in advance for best prices\",\n",
    "                \"international_flights\": \"Book 2-8 months in advance\",\n",
    "                \"peak_seasons\": \"Book as early as possible (6+ months)\"\n",
    "            },\n",
    "            \"flexible_dates\": \"Use flexible date search for better deals\",\n",
    "            \"compare_airports\": \"Check alternate airports in major cities\",\n",
    "            \"Tuesday_booking\": \"Tuesdays often have lower prices\"\n",
    "        },\n",
    "        \"documentation_requirements\": {\n",
    "            \"domestic_travel\": {\n",
    "                \"US\": \"Government-issued photo ID (driver's license, passport)\",\n",
    "                \"requirements\": \"ID must be valid and not expired\"\n",
    "            },\n",
    "            \"international_travel\": {\n",
    "                \"passport\": \"Must be valid for 6+ months beyond travel date\",\n",
    "                \"visa\": \"Check visa requirements for destination country\",\n",
    "                \"health\": \"Some countries require health certificates\"\n",
    "            }\n",
    "        },\n",
    "        \"baggage_policies\": {\n",
    "            \"carry_on\": {\n",
    "                \"size_limits\": \"Most airlines: 22x14x9 inches\",\n",
    "                \"weight_limits\": \"Varies by airline (typically 15-22 lbs)\",\n",
    "                \"restrictions\": \"Liquids 3-1-1 rule, no sharp objects\"\n",
    "            },\n",
    "            \"checked_baggage\": {\n",
    "                \"size_limits\": \"Most airlines: 62 linear inches\",\n",
    "                \"weight_limits\": \"Economy: 50 lbs, Premium: 70 lbs\",\n",
    "                \"fees\": \"Vary by airline and route\"\n",
    "            }\n",
    "        },\n",
    "        \"change_and_cancellation\": {\n",
    "            \"basic_economy\": \"Usually no changes allowed\",\n",
    "            \"economy\": \"Changes typically allowed with fees\",\n",
    "            \"premium_classes\": \"More flexible change policies\",\n",
    "            \"refundable_tickets\": \"Higher price but full refund available\"\n",
    "        }\n",
    "    }\n",
    "    \n",
    "    return json.dumps(guidelines, indent=2)\n",
    "\n",
    "@mcp_server.resource(\"travel://destination-guides\")\n",
    "def get_destination_guides() -> str:\n",
    "    \"\"\"Get travel guides for popular destinations\"\"\"\n",
    "    destinations = {\n",
    "        \"new_york\": {\n",
    "            \"best_time_to_visit\": \"April-June, September-November\",\n",
    "            \"climate\": {\n",
    "                \"spring\": \"Mild temperatures, blooming flowers\",\n",
    "                \"summer\": \"Hot and humid, outdoor events\",\n",
    "                \"fall\": \"Crisp weather, beautiful foliage\", \n",
    "                \"winter\": \"Cold, possible snow, holiday decorations\"\n",
    "            },\n",
    "            \"top_attractions\": [\n",
    "                \"Statue of Liberty\",\n",
    "                \"Central Park\",\n",
    "                \"Times Square\",\n",
    "                \"Brooklyn Bridge\",\n",
    "                \"9/11 Memorial\",\n",
    "                \"High Line\",\n",
    "                \"Museums (MoMA, Met, Guggenheim)\"\n",
    "            ],\n",
    "            \"transportation\": {\n",
    "                \"from_airport\": \"Subway, taxi, rideshare, bus\",\n",
    "                \"within_city\": \"Subway (best), taxi, walking\",\n",
    "                \"metro_card\": \"Purchase MetroCard or use contactless payment\"\n",
    "            },\n",
    "            \"dining\": [\"Pizza\", \"Bagels\", \"Deli food\", \"Fine dining\", \"Food trucks\"],\n",
    "            \"budget_tips\": [\n",
    "                \"Many museums have suggested donations\",\n",
    "                \"Free events in Central Park\",\n",
    "                \"Happy hour specials\",\n",
    "                \"Food trucks for affordable meals\"\n",
    "            ]\n",
    "        },\n",
    "        \"los_angeles\": {\n",
    "            \"best_time_to_visit\": \"March-May, September-November\",\n",
    "            \"climate\": {\n",
    "                \"year_round\": \"Mediterranean climate, mild winters, warm summers\",\n",
    "                \"rainfall\": \"Minimal, mostly in winter months\"\n",
    "            },\n",
    "            \"top_attractions\": [\n",
    "                \"Hollywood Walk of Fame\",\n",
    "                \"Griffith Observatory\",\n",
    "                \"Santa Monica Pier\",\n",
    "                \"Getty Center\",\n",
    "                \"Venice Beach\",\n",
    "                \"Beverly Hills\",\n",
    "                \"Universal Studios\"\n",
    "            ],\n",
    "            \"transportation\": {\n",
    "                \"from_airport\": \"Rental car recommended, Metro, taxi, rideshare\",\n",
    "                \"within_city\": \"Car essential, some Metro lines available\",\n",
    "                \"parking\": \"Varies by area, paid parking common\"\n",
    "            },\n",
    "            \"dining\": [\"Mexican food\", \"Korean BBQ\", \"In-N-Out Burger\", \"Food trucks\"],\n",
    "            \"budget_tips\": [\n",
    "                \"Free beaches and hiking trails\",\n",
    "                \"Getty Center free admission\",\n",
    "                \"Happy hours and food truck meals\",\n",
    "                \"Griffith Observatory free admission\"\n",
    "            ]\n",
    "        },\n",
    "        \"london\": {\n",
    "            \"best_time_to_visit\": \"April-September\",\n",
    "            \"climate\": {\n",
    "                \"temperate\": \"Mild summers, cool winters\",\n",
    "                \"rainfall\": \"Regular throughout year, carry umbrella\"\n",
    "            },\n",
    "            \"top_attractions\": [\n",
    "                \"Big Ben & Parliament\",\n",
    "                \"Tower of London\",\n",
    "                \"British Museum\",\n",
    "                \"London Eye\",\n",
    "                \"Buckingham Palace\",\n",
    "                \"Tate Modern\",\n",
    "                \"Hyde Park\"\n",
    "            ],\n",
    "            \"transportation\": {\n",
    "                \"from_airport\": \"Heathrow Express, Tube, taxi\",\n",
    "                \"within_city\": \"Underground (Tube), buses, walking\",\n",
    "                \"oyster_card\": \"Essential for public transport\"\n",
    "            },\n",
    "            \"dining\": [\"Fish and chips\", \"Pub food\", \"Indian curry\", \"Afternoon tea\"],\n",
    "            \"budget_tips\": [\n",
    "                \"Many museums free admission\",\n",
    "                \"Borough Market for food\",\n",
    "                \"Free walking tours available\",\n",
    "                \"Pub lunches often good value\"\n",
    "            ]\n",
    "        },\n",
    "        \"paris\": {\n",
    "            \"best_time_to_visit\": \"April-June, September-October\",\n",
    "            \"climate\": {\n",
    "                \"temperate\": \"Mild climate, four distinct seasons\",\n",
    "                \"summer\": \"Warm but can be crowded\"\n",
    "            },\n",
    "            \"top_attractions\": [\n",
    "                \"Eiffel Tower\",\n",
    "                \"Louvre Museum\",\n",
    "                \"Notre-Dame Cathedral\",\n",
    "                \"Arc de Triomphe\",\n",
    "                \"Champs-Élysées\",\n",
    "                \"Sacré-Cœur\",\n",
    "                \"Seine River cruise\"\n",
    "            ],\n",
    "            \"transportation\": {\n",
    "                \"from_airport\": \"RER train, taxi, bus\",\n",
    "                \"within_city\": \"Metro, walking, Vélib' bike sharing\",\n",
    "                \"navigo_card\": \"Weekly/monthly metro passes available\"\n",
    "            },\n",
    "            \"dining\": [\"French pastries\", \"Café culture\", \"Wine\", \"Cheese\", \"Fine dining\"],\n",
    "            \"budget_tips\": [\n",
    "                \"Many churches free to visit\",\n",
    "                \"Picnics in parks with market food\",\n",
    "                \"Happy hour at wine bars\",\n",
    "                \"Free museum days for EU residents\"\n",
    "            ]\n",
    "        }\n",
    "    }\n",
    "    "
   ]
  },
  {
   "cell_type": "markdown",
   "metadata": {},
   "source": [
    "### List Resources"
   ]
  },
  {
   "cell_type": "code",
   "execution_count": 17,
   "metadata": {},
   "outputs": [
    {
     "name": "stderr",
     "output_type": "stream",
     "text": [
      "INFO:httpx:HTTP Request: POST http://127.0.0.1:8000/mcp/ \"HTTP/1.1 200 OK\"\n",
      "INFO:mcp.client.streamable_http:Received session ID: c47ae42649434a08a70ba5c928fa38b4\n",
      "INFO:mcp.client.streamable_http:Negotiated protocol version: 2025-06-18\n",
      "INFO:httpx:HTTP Request: POST http://127.0.0.1:8000/mcp/ \"HTTP/1.1 202 Accepted\"\n",
      "INFO:httpx:HTTP Request: GET http://127.0.0.1:8000/mcp/ \"HTTP/1.1 200 OK\"\n",
      "INFO:httpx:HTTP Request: POST http://127.0.0.1:8000/mcp/ \"HTTP/1.1 200 OK\"\n",
      "INFO:httpx:HTTP Request: POST http://127.0.0.1:8000/mcp/ \"HTTP/1.1 200 OK\"\n",
      "INFO:httpx:HTTP Request: POST http://127.0.0.1:8000/mcp/ \"HTTP/1.1 200 OK\"\n",
      "INFO:httpx:HTTP Request: POST http://127.0.0.1:8000/mcp/ \"HTTP/1.1 200 OK\"\n",
      "INFO:httpx:HTTP Request: POST http://127.0.0.1:8000/mcp/ \"HTTP/1.1 200 OK\"\n",
      "INFO:httpx:HTTP Request: POST http://127.0.0.1:8000/mcp/ \"HTTP/1.1 200 OK\"\n",
      "INFO:httpx:HTTP Request: POST http://127.0.0.1:8000/mcp/ \"HTTP/1.1 200 OK\"\n",
      "INFO:httpx:HTTP Request: POST http://127.0.0.1:8000/mcp/ \"HTTP/1.1 200 OK\"\n",
      "INFO:httpx:HTTP Request: DELETE http://127.0.0.1:8000/mcp/ \"HTTP/1.1 200 OK\"\n"
     ]
    },
    {
     "name": "stdout",
     "output_type": "stream",
     "text": [
      "API Status: metadata={'uri': AnyUrl('travel://amadeus-status')} data='{\\n  \"connected\": true,\\n  \"environment\": \"TEST\",\\n  \"api_url\": \"https://test.api.amadeus.com\",\\n  \"token_valid\": true,\\n  \"timestamp\": \"2025-08-14T23:06:02.297085\",\\n  \"rate_limits\": {\\n    \"flight_search\": \"10 transactions per second\",\\n    \"hotel_search\": \"10 transactions per second\",\\n    \"booking\": \"2 transactions per second\"\\n  }\\n}' mimetype='text/plain'\n",
      "API Status: metadata={'uri': AnyUrl('travel://supported-features')} data='{\\n  \"flight_search\": {\\n    \"description\": \"Search for flights between airports\",\\n    \"endpoints\": [\\n      \"/v2/shopping/flight-offers\"\\n    ],\\n    \"features\": [\\n      \"One-way\",\\n      \"Round-trip\",\\n      \"Multi-city\",\\n      \"Cabin class selection\",\\n      \"Nonstop filtering\"\\n    ],\\n    \"parameters\": [\\n      \"origin\",\\n      \"destination\",\\n      \"departure_date\",\\n      \"return_date\",\\n      \"adults\",\\n      \"children\",\\n      \"infants\",\\n      \"travel_class\"\\n    ]\\n  },\\n  \"hotel_search\": {\\n    \"description\": \"Search for hotels in cities\",\\n    \"endpoints\": [\\n      \"/v1/reference-data/locations/hotels/by-city\",\\n      \"/v3/shopping/hotel-offers\"\\n    ],\\n    \"features\": [\\n      \"City search\",\\n      \"Amenity filtering\",\\n      \"Price range\",\\n      \"Star ratings\"\\n    ],\\n    \"parameters\": [\\n      \"city_code\",\\n      \"check_in\",\\n      \"check_out\",\\n      \"adults\",\\n      \"room_quantity\",\\n      \"amenities\",\\n      \"ratings\"\\n    ]\\n  },\\n  \"flight_booking\": {\\n    \"description\": \"Create flight bookings (test environment)\",\\n    \"endpoints\": [\\n      \"/v1/booking/flight-orders\"\\n    ],\\n    \"features\": [\\n      \"Test bookings\",\\n      \"Multi-passenger\",\\n      \"Special requests\"\\n    ],\\n    \"parameters\": [\\n      \"flight_offer\",\\n      \"travelers\",\\n      \"contact\"\\n    ]\\n  },\\n  \"reference_data\": {\\n    \"description\": \"Access reference data for travel\",\\n    \"endpoints\": [\\n      \"/v1/reference-data/locations\",\\n      \"/v1/reference-data/airlines\"\\n    ],\\n    \"features\": [\\n      \"Airport search\",\\n      \"City codes\",\\n      \"Airline information\"\\n    ],\\n    \"parameters\": [\\n      \"keyword\",\\n      \"country_code\",\\n      \"carrier_code\"\\n    ]\\n  },\\n  \"flight_status\": {\\n    \"description\": \"Check flight status\",\\n    \"endpoints\": [\\n      \"/v2/schedule/flights\"\\n    ],\\n    \"features\": [\\n      \"Real-time status\",\\n      \"Schedule information\"\\n    ],\\n    \"parameters\": [\\n      \"carrier_code\",\\n      \"flight_number\",\\n      \"scheduled_departure_date\"\\n    ]\\n  }\\n}' mimetype='text/plain'\n",
      "API Status: metadata={'uri': AnyUrl('travel://airport-codes')} data='{\\n  \"north_america\": {\\n    \"JFK\": {\\n      \"name\": \"John F. Kennedy International Airport\",\\n      \"city\": \"New York\",\\n      \"country\": \"United States\",\\n      \"iata\": \"JFK\",\\n      \"icao\": \"KJFK\",\\n      \"timezone\": \"America/New_York\",\\n      \"terminals\": 6,\\n      \"coordinates\": {\\n        \"lat\": 40.6413,\\n        \"lon\": -73.7781\\n      }\\n    },\\n    \"LAX\": {\\n      \"name\": \"Los Angeles International Airport\",\\n      \"city\": \"Los Angeles\",\\n      \"country\": \"United States\",\\n      \"iata\": \"LAX\",\\n      \"icao\": \"KLAX\",\\n      \"timezone\": \"America/Los_Angeles\",\\n      \"terminals\": 9,\\n      \"coordinates\": {\\n        \"lat\": 33.9425,\\n        \"lon\": -118.4081\\n      }\\n    },\\n    \"ORD\": {\\n      \"name\": \"O\\'Hare International Airport\",\\n      \"city\": \"Chicago\",\\n      \"country\": \"United States\",\\n      \"iata\": \"ORD\",\\n      \"icao\": \"KORD\",\\n      \"timezone\": \"America/Chicago\",\\n      \"terminals\": 5,\\n      \"coordinates\": {\\n        \"lat\": 41.9742,\\n        \"lon\": -87.9073\\n      }\\n    },\\n    \"YYZ\": {\\n      \"name\": \"Toronto Pearson International Airport\",\\n      \"city\": \"Toronto\",\\n      \"country\": \"Canada\",\\n      \"iata\": \"YYZ\",\\n      \"icao\": \"CYYZ\",\\n      \"timezone\": \"America/Toronto\",\\n      \"terminals\": 3,\\n      \"coordinates\": {\\n        \"lat\": 43.6777,\\n        \"lon\": -79.6248\\n      }\\n    }\\n  },\\n  \"europe\": {\\n    \"LHR\": {\\n      \"name\": \"Heathrow Airport\",\\n      \"city\": \"London\",\\n      \"country\": \"United Kingdom\",\\n      \"iata\": \"LHR\",\\n      \"icao\": \"EGLL\",\\n      \"timezone\": \"Europe/London\",\\n      \"terminals\": 5,\\n      \"coordinates\": {\\n        \"lat\": 51.47,\\n        \"lon\": -0.4543\\n      }\\n    },\\n    \"CDG\": {\\n      \"name\": \"Charles de Gaulle Airport\",\\n      \"city\": \"Paris\",\\n      \"country\": \"France\",\\n      \"iata\": \"CDG\",\\n      \"icao\": \"LFPG\",\\n      \"timezone\": \"Europe/Paris\",\\n      \"terminals\": 3,\\n      \"coordinates\": {\\n        \"lat\": 49.0097,\\n        \"lon\": 2.5479\\n      }\\n    },\\n    \"FRA\": {\\n      \"name\": \"Frankfurt Airport\",\\n      \"city\": \"Frankfurt\",\\n      \"country\": \"Germany\",\\n      \"iata\": \"FRA\",\\n      \"icao\": \"EDDF\",\\n      \"timezone\": \"Europe/Berlin\",\\n      \"terminals\": 2,\\n      \"coordinates\": {\\n        \"lat\": 50.0264,\\n        \"lon\": 8.5431\\n      }\\n    },\\n    \"AMS\": {\\n      \"name\": \"Amsterdam Airport Schiphol\",\\n      \"city\": \"Amsterdam\",\\n      \"country\": \"Netherlands\",\\n      \"iata\": \"AMS\",\\n      \"icao\": \"EHAM\",\\n      \"timezone\": \"Europe/Amsterdam\",\\n      \"terminals\": 3,\\n      \"coordinates\": {\\n        \"lat\": 52.3105,\\n        \"lon\": 4.7683\\n      }\\n    }\\n  },\\n  \"asia_pacific\": {\\n    \"NRT\": {\\n      \"name\": \"Narita International Airport\",\\n      \"city\": \"Tokyo\",\\n      \"country\": \"Japan\",\\n      \"iata\": \"NRT\",\\n      \"icao\": \"RJAA\",\\n      \"timezone\": \"Asia/Tokyo\",\\n      \"terminals\": 3,\\n      \"coordinates\": {\\n        \"lat\": 35.772,\\n        \"lon\": 140.3929\\n      }\\n    },\\n    \"SIN\": {\\n      \"name\": \"Singapore Changi Airport\",\\n      \"city\": \"Singapore\",\\n      \"country\": \"Singapore\",\\n      \"iata\": \"SIN\",\\n      \"icao\": \"WSSS\",\\n      \"timezone\": \"Asia/Singapore\",\\n      \"terminals\": 4,\\n      \"coordinates\": {\\n        \"lat\": 1.3644,\\n        \"lon\": 103.9915\\n      }\\n    },\\n    \"HKG\": {\\n      \"name\": \"Hong Kong International Airport\",\\n      \"city\": \"Hong Kong\",\\n      \"country\": \"China\",\\n      \"iata\": \"HKG\",\\n      \"icao\": \"VHHH\",\\n      \"timezone\": \"Asia/Hong_Kong\",\\n      \"terminals\": 2,\\n      \"coordinates\": {\\n        \"lat\": 22.308,\\n        \"lon\": 113.9185\\n      }\\n    },\\n    \"SYD\": {\\n      \"name\": \"Sydney Kingsford Smith Airport\",\\n      \"city\": \"Sydney\",\\n      \"country\": \"Australia\",\\n      \"iata\": \"SYD\",\\n      \"icao\": \"YSSY\",\\n      \"timezone\": \"Australia/Sydney\",\\n      \"terminals\": 3,\\n      \"coordinates\": {\\n        \"lat\": -33.9399,\\n        \"lon\": 151.1753\\n      }\\n    }\\n  }\\n}' mimetype='text/plain'\n",
      "API Status: metadata={'uri': AnyUrl('travel://airline-codes')} data='{\\n  \"full_service_carriers\": {\\n    \"AA\": {\\n      \"name\": \"American Airlines\",\\n      \"country\": \"United States\",\\n      \"iata\": \"AA\",\\n      \"icao\": \"AAL\",\\n      \"callsign\": \"AMERICAN\",\\n      \"hubs\": [\\n        \"DFW\",\\n        \"CLT\",\\n        \"PHX\",\\n        \"MIA\"\\n      ],\\n      \"alliance\": \"oneworld\"\\n    },\\n    \"DL\": {\\n      \"name\": \"Delta Air Lines\",\\n      \"country\": \"United States\",\\n      \"iata\": \"DL\",\\n      \"icao\": \"DAL\",\\n      \"callsign\": \"DELTA\",\\n      \"hubs\": [\\n        \"ATL\",\\n        \"DTW\",\\n        \"MSP\",\\n        \"SEA\"\\n      ],\\n      \"alliance\": \"SkyTeam\"\\n    },\\n    \"UA\": {\\n      \"name\": \"United Airlines\",\\n      \"country\": \"United States\",\\n      \"iata\": \"UA\",\\n      \"icao\": \"UAL\",\\n      \"callsign\": \"UNITED\",\\n      \"hubs\": [\\n        \"ORD\",\\n        \"DEN\",\\n        \"EWR\",\\n        \"SFO\"\\n      ],\\n      \"alliance\": \"Star Alliance\"\\n    },\\n    \"BA\": {\\n      \"name\": \"British Airways\",\\n      \"country\": \"United Kingdom\",\\n      \"iata\": \"BA\",\\n      \"icao\": \"BAW\",\\n      \"callsign\": \"SPEEDBIRD\",\\n      \"hubs\": [\\n        \"LHR\",\\n        \"LGW\"\\n      ],\\n      \"alliance\": \"oneworld\"\\n    },\\n    \"LH\": {\\n      \"name\": \"Lufthansa\",\\n      \"country\": \"Germany\",\\n      \"iata\": \"LH\",\\n      \"icao\": \"DLH\",\\n      \"callsign\": \"LUFTHANSA\",\\n      \"hubs\": [\\n        \"FRA\",\\n        \"MUC\"\\n      ],\\n      \"alliance\": \"Star Alliance\"\\n    }\\n  },\\n  \"low_cost_carriers\": {\\n    \"B6\": {\\n      \"name\": \"JetBlue Airways\",\\n      \"country\": \"United States\",\\n      \"iata\": \"B6\",\\n      \"icao\": \"JBU\",\\n      \"callsign\": \"JETBLUE\",\\n      \"hubs\": [\\n        \"JFK\",\\n        \"BOS\",\\n        \"FLL\"\\n      ],\\n      \"alliance\": \"None\"\\n    },\\n    \"WN\": {\\n      \"name\": \"Southwest Airlines\",\\n      \"country\": \"United States\",\\n      \"iata\": \"WN\",\\n      \"icao\": \"SWA\",\\n      \"callsign\": \"SOUTHWEST\",\\n      \"hubs\": [\\n        \"DAL\",\\n        \"DEN\",\\n        \"BWI\"\\n      ],\\n      \"alliance\": \"None\"\\n    },\\n    \"FR\": {\\n      \"name\": \"Ryanair\",\\n      \"country\": \"Ireland\",\\n      \"iata\": \"FR\",\\n      \"icao\": \"RYR\",\\n      \"callsign\": \"RYANAIR\",\\n      \"hubs\": [\\n        \"DUB\",\\n        \"STN\",\\n        \"BGY\"\\n      ],\\n      \"alliance\": \"None\"\\n    }\\n  }\\n}' mimetype='text/plain'\n",
      "API Status: metadata={'uri': AnyUrl('travel://travel-classes')} data='{\\n  \"ECONOMY\": {\\n    \"description\": \"Basic economy class with standard amenities\",\\n    \"features\": [\\n      \"Standard seat pitch (28-32 inches)\",\\n      \"Basic meal service on long flights\",\\n      \"Personal entertainment on most aircraft\",\\n      \"One carry-on bag included\",\\n      \"Standard baggage allowance\"\\n    ],\\n    \"typical_airlines\": [\\n      \"All major carriers\"\\n    ]\\n  },\\n  \"PREMIUM_ECONOMY\": {\\n    \"description\": \"Enhanced economy with extra comfort and services\",\\n    \"features\": [\\n      \"Increased seat pitch (34-38 inches)\",\\n      \"Enhanced meal service\",\\n      \"Priority boarding\",\\n      \"Extra baggage allowance\",\\n      \"Premium entertainment options\"\\n    ],\\n    \"typical_airlines\": [\\n      \"AA\",\\n      \"DL\",\\n      \"UA\",\\n      \"BA\",\\n      \"LH\",\\n      \"AF\"\\n    ]\\n  },\\n  \"BUSINESS\": {\\n    \"description\": \"Premium business class with luxury amenities\",\\n    \"features\": [\\n      \"Lie-flat or angle-flat seats\",\\n      \"Gourmet meal service\",\\n      \"Priority check-in and boarding\",\\n      \"Lounge access\",\\n      \"Increased baggage allowance\",\\n      \"Premium entertainment and amenity kits\"\\n    ],\\n    \"typical_airlines\": [\\n      \"All full-service carriers\"\\n    ]\\n  },\\n  \"FIRST\": {\\n    \"description\": \"Ultra-premium first class with maximum luxury\",\\n    \"features\": [\\n      \"Private suites or fully flat beds\",\\n      \"Multi-course gourmet dining\",\\n      \"Dedicated check-in and boarding\",\\n      \"Premium lounge access\",\\n      \"Maximum baggage allowance\",\\n      \"Personal service and luxury amenities\"\\n    ],\\n    \"typical_airlines\": [\\n      \"AA\",\\n      \"BA\",\\n      \"LH\",\\n      \"AF\",\\n      \"SQ\",\\n      \"EK\"\\n    ]\\n  }\\n}' mimetype='text/plain'\n",
      "API Status: metadata={'uri': AnyUrl('travel://booking-guidelines')} data='{\\n  \"general_tips\": {\\n    \"advance_booking\": {\\n      \"domestic_flights\": \"Book 1-3 months in advance for best prices\",\\n      \"international_flights\": \"Book 2-8 months in advance\",\\n      \"peak_seasons\": \"Book as early as possible (6+ months)\"\\n    },\\n    \"flexible_dates\": \"Use flexible date search for better deals\",\\n    \"compare_airports\": \"Check alternate airports in major cities\",\\n    \"Tuesday_booking\": \"Tuesdays often have lower prices\"\\n  },\\n  \"documentation_requirements\": {\\n    \"domestic_travel\": {\\n      \"US\": \"Government-issued photo ID (driver\\'s license, passport)\",\\n      \"requirements\": \"ID must be valid and not expired\"\\n    },\\n    \"international_travel\": {\\n      \"passport\": \"Must be valid for 6+ months beyond travel date\",\\n      \"visa\": \"Check visa requirements for destination country\",\\n      \"health\": \"Some countries require health certificates\"\\n    }\\n  },\\n  \"baggage_policies\": {\\n    \"carry_on\": {\\n      \"size_limits\": \"Most airlines: 22x14x9 inches\",\\n      \"weight_limits\": \"Varies by airline (typically 15-22 lbs)\",\\n      \"restrictions\": \"Liquids 3-1-1 rule, no sharp objects\"\\n    },\\n    \"checked_baggage\": {\\n      \"size_limits\": \"Most airlines: 62 linear inches\",\\n      \"weight_limits\": \"Economy: 50 lbs, Premium: 70 lbs\",\\n      \"fees\": \"Vary by airline and route\"\\n    }\\n  },\\n  \"change_and_cancellation\": {\\n    \"basic_economy\": \"Usually no changes allowed\",\\n    \"economy\": \"Changes typically allowed with fees\",\\n    \"premium_classes\": \"More flexible change policies\",\\n    \"refundable_tickets\": \"Higher price but full refund available\"\\n  }\\n}' mimetype='text/plain'\n",
      "API Status: metadata={'uri': AnyUrl('travel://destination-guides')} data='null' mimetype='text/plain'\n"
     ]
    }
   ],
   "source": [
    "resources = await mcp_client.get_resources(server_name=\"amadeus\")\n",
    "for resource in resources:\n",
    "  print(f\"API Status: {resource}\")"
   ]
  },
  {
   "cell_type": "markdown",
   "metadata": {},
   "source": [
    "### **💬 Intelligent MCP Prompts:**\n",
    "\n",
    "**1. Travel Agent Prompt (`travel-agent`)**\n",
    "- Customizable agent personality\n",
    "- Specialty-based expertise (business, leisure, luxury)\n",
    "- Tone adaptation (professional, friendly, enthusiastic)\n",
    "- Real API tool integration guidance\n",
    "\n",
    "**2. Flight Search Prompt (`flight-search`)**\n",
    "- Structured search parameters\n",
    "- Response formatting templates\n",
    "- Recommendation logic\n",
    "- Price comparison strategies\n",
    "\n",
    "**3. Complete Trip Prompt (`complete-trip`)**\n",
    "- End-to-end trip planning\n",
    "- Multi-service coordination\n",
    "- Purpose-based recommendations\n",
    "- Comprehensive itinerary creation"
   ]
  },
  {
   "cell_type": "code",
   "execution_count": 20,
   "metadata": {},
   "outputs": [
    {
     "data": {
      "text/html": [
       "<pre style=\"white-space:pre;overflow-x:auto;line-height:normal;font-family:Menlo,'DejaVu Sans Mono',consolas,'Courier New',monospace\"><span style=\"color: #7fbfbf; text-decoration-color: #7fbfbf\">[08/14/25 23:06:42] </span><span style=\"color: #808000; text-decoration-color: #808000\">WARNING </span> Prompt already exists: travel-agent                              <a href=\"file://c:\\Users\\Guido\\AppData\\Local\\Programs\\Python\\Python311\\Lib\\site-packages\\fastmcp\\prompts\\prompt_manager.py\" target=\"_blank\"><span style=\"color: #7f7f7f; text-decoration-color: #7f7f7f\">prompt_manager.py</span></a><span style=\"color: #7f7f7f; text-decoration-color: #7f7f7f\">:</span><a href=\"file://c:\\Users\\Guido\\AppData\\Local\\Programs\\Python\\Python311\\Lib\\site-packages\\fastmcp\\prompts\\prompt_manager.py#140\" target=\"_blank\"><span style=\"color: #7f7f7f; text-decoration-color: #7f7f7f\">140</span></a>\n",
       "</pre>\n"
      ],
      "text/plain": [
       "\u001b[2;36m[08/14/25 23:06:42]\u001b[0m\u001b[2;36m \u001b[0m\u001b[33mWARNING \u001b[0m Prompt already exists: travel-agent                              \u001b]8;id=682626;file://c:\\Users\\Guido\\AppData\\Local\\Programs\\Python\\Python311\\Lib\\site-packages\\fastmcp\\prompts\\prompt_manager.py\u001b\\\u001b[2mprompt_manager.py\u001b[0m\u001b]8;;\u001b\\\u001b[2m:\u001b[0m\u001b]8;id=384699;file://c:\\Users\\Guido\\AppData\\Local\\Programs\\Python\\Python311\\Lib\\site-packages\\fastmcp\\prompts\\prompt_manager.py#140\u001b\\\u001b[2m140\u001b[0m\u001b]8;;\u001b\\\n"
      ]
     },
     "metadata": {},
     "output_type": "display_data"
    },
    {
     "data": {
      "text/html": [
       "<pre style=\"white-space:pre;overflow-x:auto;line-height:normal;font-family:Menlo,'DejaVu Sans Mono',consolas,'Courier New',monospace\"><span style=\"color: #7fbfbf; text-decoration-color: #7fbfbf\">                    </span><span style=\"color: #808000; text-decoration-color: #808000\">WARNING </span> Prompt already exists: flight-search                             <a href=\"file://c:\\Users\\Guido\\AppData\\Local\\Programs\\Python\\Python311\\Lib\\site-packages\\fastmcp\\prompts\\prompt_manager.py\" target=\"_blank\"><span style=\"color: #7f7f7f; text-decoration-color: #7f7f7f\">prompt_manager.py</span></a><span style=\"color: #7f7f7f; text-decoration-color: #7f7f7f\">:</span><a href=\"file://c:\\Users\\Guido\\AppData\\Local\\Programs\\Python\\Python311\\Lib\\site-packages\\fastmcp\\prompts\\prompt_manager.py#140\" target=\"_blank\"><span style=\"color: #7f7f7f; text-decoration-color: #7f7f7f\">140</span></a>\n",
       "</pre>\n"
      ],
      "text/plain": [
       "\u001b[2;36m                   \u001b[0m\u001b[2;36m \u001b[0m\u001b[33mWARNING \u001b[0m Prompt already exists: flight-search                             \u001b]8;id=43111;file://c:\\Users\\Guido\\AppData\\Local\\Programs\\Python\\Python311\\Lib\\site-packages\\fastmcp\\prompts\\prompt_manager.py\u001b\\\u001b[2mprompt_manager.py\u001b[0m\u001b]8;;\u001b\\\u001b[2m:\u001b[0m\u001b]8;id=630080;file://c:\\Users\\Guido\\AppData\\Local\\Programs\\Python\\Python311\\Lib\\site-packages\\fastmcp\\prompts\\prompt_manager.py#140\u001b\\\u001b[2m140\u001b[0m\u001b]8;;\u001b\\\n"
      ]
     },
     "metadata": {},
     "output_type": "display_data"
    },
    {
     "data": {
      "text/html": [
       "<pre style=\"white-space:pre;overflow-x:auto;line-height:normal;font-family:Menlo,'DejaVu Sans Mono',consolas,'Courier New',monospace\"><span style=\"color: #7fbfbf; text-decoration-color: #7fbfbf\">                    </span><span style=\"color: #808000; text-decoration-color: #808000\">WARNING </span> Prompt already exists: complete-trip                             <a href=\"file://c:\\Users\\Guido\\AppData\\Local\\Programs\\Python\\Python311\\Lib\\site-packages\\fastmcp\\prompts\\prompt_manager.py\" target=\"_blank\"><span style=\"color: #7f7f7f; text-decoration-color: #7f7f7f\">prompt_manager.py</span></a><span style=\"color: #7f7f7f; text-decoration-color: #7f7f7f\">:</span><a href=\"file://c:\\Users\\Guido\\AppData\\Local\\Programs\\Python\\Python311\\Lib\\site-packages\\fastmcp\\prompts\\prompt_manager.py#140\" target=\"_blank\"><span style=\"color: #7f7f7f; text-decoration-color: #7f7f7f\">140</span></a>\n",
       "</pre>\n"
      ],
      "text/plain": [
       "\u001b[2;36m                   \u001b[0m\u001b[2;36m \u001b[0m\u001b[33mWARNING \u001b[0m Prompt already exists: complete-trip                             \u001b]8;id=142656;file://c:\\Users\\Guido\\AppData\\Local\\Programs\\Python\\Python311\\Lib\\site-packages\\fastmcp\\prompts\\prompt_manager.py\u001b\\\u001b[2mprompt_manager.py\u001b[0m\u001b]8;;\u001b\\\u001b[2m:\u001b[0m\u001b]8;id=592426;file://c:\\Users\\Guido\\AppData\\Local\\Programs\\Python\\Python311\\Lib\\site-packages\\fastmcp\\prompts\\prompt_manager.py#140\u001b\\\u001b[2m140\u001b[0m\u001b]8;;\u001b\\\n"
      ]
     },
     "metadata": {},
     "output_type": "display_data"
    },
    {
     "name": "stdout",
     "output_type": "stream",
     "text": [
      "✅ Enhanced MCP server with intelligent prompts created\n"
     ]
    }
   ],
   "source": [
    "# ================== MCP Prompts ==================\n",
    "# Add intelligent prompts for different travel scenarios\n",
    "\n",
    "@mcp_server.prompt(\"travel-agent\")\n",
    "def travel_agent_prompt(\n",
    "    name: str = \"Travel Agent\",\n",
    "    specialty: str = \"general\",\n",
    "    tone: str = \"professional\"\n",
    ") -> str:\n",
    "    \"\"\"Generate a travel agent prompt with customizable parameters.\n",
    "    \n",
    "    Args:\n",
    "        name: Name of the travel agent character\n",
    "        specialty: Agent specialty (business, leisure, luxury, budget, family)\n",
    "        tone: Communication tone (professional, friendly, enthusiastic, concise)\n",
    "    \"\"\"\n",
    "    \n",
    "    base_prompt = f\"\"\"You are {name}, an expert AI travel agent specializing in {specialty} travel. \n",
    "\n",
    "## Your Personality & Tone\n",
    "Communicate in a {tone} manner while being:\n",
    "- Knowledgeable about travel industry standards\n",
    "- Attentive to customer preferences and budget\n",
    "- Proactive in offering valuable suggestions\n",
    "- Clear and organized in presenting options\n",
    "\n",
    "## Your Expertise\n",
    "\"\"\"\n",
    "\n",
    "    if specialty == \"business\":\n",
    "        specialty_section = \"\"\"\n",
    "**Business Travel Specialization:**\n",
    "- Prioritize convenience and time efficiency\n",
    "- Focus on airline status benefits and airport lounges\n",
    "- Recommend hotels with business amenities\n",
    "- Consider proximity to meeting venues\n",
    "- Suggest flexible booking options for potential changes\n",
    "\"\"\"\n",
    "    elif specialty == \"leisure\":\n",
    "        specialty_section = \"\"\"\n",
    "**Leisure Travel Specialization:**\n",
    "- Focus on experiences and value for money\n",
    "- Recommend scenic routes and interesting stopovers\n",
    "- Suggest local attractions and cultural experiences\n",
    "- Consider seasonal events and festivals\n",
    "- Balance budget with memorable experiences\n",
    "\"\"\"\n",
    "    elif specialty == \"luxury\":\n",
    "        specialty_section = \"\"\"\n",
    "**Luxury Travel Specialization:**\n",
    "- Emphasize premium accommodations and services\n",
    "- Recommend first-class and business-class options\n",
    "- Focus on exclusive experiences and amenities\n",
    "- Suggest high-end hotels with exceptional service\n",
    "- Consider private transfers and concierge services\n",
    "\"\"\"\n",
    "    else:\n",
    "        specialty_section = \"\"\"\n",
    "**General Travel Specialization:**\n",
    "- Adapt to each customer's unique needs and preferences\n",
    "- Provide balanced options across different price ranges\n",
    "- Consider both practical and experiential aspects\n",
    "- Offer alternatives and explain trade-offs\n",
    "- Ensure comprehensive travel planning coverage\n",
    "\"\"\"\n",
    "\n",
    "    capabilities_section = \"\"\"\n",
    "## Your Capabilities\n",
    "You have access to real-time Amadeus API data through these tools:\n",
    "\n",
    "**Flight Services:**\n",
    "- search_flights: Find flights with real pricing and availability\n",
    "- search_hotels: Find accommodations with current rates\n",
    "- search_airports: Find airports by location or code\n",
    "- get_airline_info: Airline details and information\n",
    "\n",
    "## Service Standards\n",
    "1. **Always search comprehensively** - Use multiple tools when planning complete trips\n",
    "2. **Present clear options** - Organize results with key differences highlighted\n",
    "3. **Provide context** - Explain recommendations and alternatives\n",
    "4. **Follow up proactively** - Suggest related services and next steps\n",
    "\n",
    "Remember: Always use the MCP tools to access real, current travel data. Never provide outdated or assumed information.\n",
    "\"\"\"\n",
    "\n",
    "    return base_prompt + specialty_section + capabilities_section\n",
    "\n",
    "@mcp_server.prompt(\"flight-search\")\n",
    "def flight_search_prompt(\n",
    "    origin: str,\n",
    "    destination: str,\n",
    "    departure_date: str,\n",
    "    passengers: int = 1,\n",
    "    travel_class: str = \"ECONOMY\"\n",
    ") -> str:\n",
    "    \"\"\"Generate a specialized prompt for flight search scenarios.\"\"\"\n",
    "    \n",
    "    return f\"\"\"You are conducting a flight search for a customer with these requirements:\n",
    "\n",
    "**Trip Details:**\n",
    "- Route: {origin} to {destination}\n",
    "- Departure: {departure_date}\n",
    "- Passengers: {passengers}\n",
    "- Class: {travel_class}\n",
    "\n",
    "**Your Task:**\n",
    "1. **Search for flights** using the search_flights tool with the specified parameters\n",
    "2. **Present options clearly** with these details for each flight:\n",
    "   - Airline and flight number\n",
    "   - Departure and arrival times (with timezone considerations)\n",
    "   - Flight duration and any stops\n",
    "   - Price per person and total cost\n",
    "   - Available seats and booking class\n",
    "\n",
    "3. **Provide recommendations** based on:\n",
    "   - Best value (lowest price with reasonable timing)\n",
    "   - Most convenient (shortest total travel time)\n",
    "   - Premium option (best service/amenities)\n",
    "\n",
    "**Response Format:**\n",
    "Flight Options: {origin} to {destination}\n",
    "\n",
    "**Option 1: [Best Value]**\n",
    "- Flight: [Airline] [Number]\n",
    "- Schedule: [Departure] to [Arrival] ([Duration])\n",
    "- Price: $[Amount] per person (Total: $[Total])\n",
    "- Available: [Seats] seats\n",
    "\n",
    "[Continue for each option...]\n",
    "\n",
    "**Recommendations:**\n",
    "[Your analysis and suggestions]\n",
    "\"\"\"\n",
    "\n",
    "@mcp_server.prompt(\"complete-trip\")\n",
    "def complete_trip_prompt(\n",
    "    origin: str,\n",
    "    destination: str,\n",
    "    departure_date: str,\n",
    "    return_date: str = None,\n",
    "    travelers: int = 1,\n",
    "    trip_purpose: str = \"leisure\"\n",
    ") -> str:\n",
    "    \"\"\"Generate a comprehensive trip planning prompt.\"\"\"\n",
    "    \n",
    "    trip_type = \"round-trip\" if return_date else \"one-way\"\n",
    "    \n",
    "    return f\"\"\"You are planning a complete {trip_type} {trip_purpose} trip for {travelers} traveler(s).\n",
    "\n",
    "**Trip Overview:**\n",
    "- Route: {origin} to {destination}\n",
    "- Departure: {departure_date}\n",
    "{f\"- Return: {return_date}\" if return_date else \"\"}\n",
    "- Travelers: {travelers}\n",
    "- Purpose: {trip_purpose}\n",
    "\n",
    "**Your Comprehensive Planning Task:**\n",
    "\n",
    "1. **Flight Planning:**\n",
    "   - Search outbound flights from {origin} to {destination}\n",
    "   {f\"- Search return flights from {destination} to {origin}\" if return_date else \"\"}\n",
    "   - Present options considering {trip_purpose} travel priorities\n",
    "\n",
    "2. **Accommodation Planning:**\n",
    "   - Search hotels in {destination}\n",
    "   - Consider location relative to purpose (business district, attractions, etc.)\n",
    "\n",
    "3. **Destination Intelligence:**\n",
    "   - Provide destination guide information\n",
    "   - Share relevant travel tips and local insights\n",
    "\n",
    "4. **Complete Itinerary Coordination:**\n",
    "   - Ensure arrival/departure times align with accommodation\n",
    "   - Consider ground transportation needs\n",
    "\n",
    "**Execution Steps:**\n",
    "1. Use search_flights for outbound flights\n",
    "{f\"2. Use search_flights for return flights\" if return_date else \"2. Consider one-way vs. round-trip booking\"}\n",
    "3. Use search_hotels for accommodation options\n",
    "4. Present integrated options with total costs\n",
    "\n",
    "**Final Presentation:**\n",
    "Present a complete trip package with:\n",
    "- Recommended flight + hotel combinations\n",
    "- Total trip cost breakdown\n",
    "- Timeline and logistics overview\n",
    "- Local tips and preparation advice\n",
    "\"\"\"\n",
    "\n",
    "print(\"✅ Enhanced MCP server with intelligent prompts created\")"
   ]
  },
  {
   "cell_type": "code",
   "execution_count": 28,
   "metadata": {},
   "outputs": [
    {
     "name": "stderr",
     "output_type": "stream",
     "text": [
      "INFO:httpx:HTTP Request: POST http://127.0.0.1:8000/mcp/ \"HTTP/1.1 200 OK\"\n",
      "INFO:mcp.client.streamable_http:Received session ID: 3699b336bb3a4141851ac9771251ab0c\n",
      "INFO:mcp.client.streamable_http:Negotiated protocol version: 2025-06-18\n"
     ]
    },
    {
     "name": "stderr",
     "output_type": "stream",
     "text": [
      "INFO:httpx:HTTP Request: POST http://127.0.0.1:8000/mcp/ \"HTTP/1.1 202 Accepted\"\n",
      "INFO:httpx:HTTP Request: GET http://127.0.0.1:8000/mcp/ \"HTTP/1.1 200 OK\"\n",
      "INFO:httpx:HTTP Request: POST http://127.0.0.1:8000/mcp/ \"HTTP/1.1 200 OK\"\n",
      "INFO:httpx:HTTP Request: DELETE http://127.0.0.1:8000/mcp/ \"HTTP/1.1 200 OK\"\n"
     ]
    },
    {
     "name": "stdout",
     "output_type": "stream",
     "text": [
      "API Status: [HumanMessage(content=\"You are Travel Agent, an expert AI travel agent specializing in general travel. \\n\\n## Your Personality & Tone\\nCommunicate in a professional manner while being:\\n- Knowledgeable about travel industry standards\\n- Attentive to customer preferences and budget\\n- Proactive in offering valuable suggestions\\n- Clear and organized in presenting options\\n\\n## Your Expertise\\n\\n**General Travel Specialization:**\\n- Adapt to each customer's unique needs and preferences\\n- Provide balanced options across different price ranges\\n- Consider both practical and experiential aspects\\n- Offer alternatives and explain trade-offs\\n- Ensure comprehensive travel planning coverage\\n\\n## Your Capabilities\\nYou have access to real-time Amadeus API data through these tools:\\n\\n**Flight Services:**\\n- search_flights: Find flights with real pricing and availability\\n- search_hotels: Find accommodations with current rates\\n- search_airports: Find airports by location or code\\n- get_airline_info: Airline details and information\\n\\n## Service Standards\\n1. **Always search comprehensively** - Use multiple tools when planning complete trips\\n2. **Present clear options** - Organize results with key differences highlighted\\n3. **Provide context** - Explain recommendations and alternatives\\n4. **Follow up proactively** - Suggest related services and next steps\\n\\nRemember: Always use the MCP tools to access real, current travel data. Never provide outdated or assumed information.\\n\", additional_kwargs={}, response_metadata={})]\n"
     ]
    }
   ],
   "source": [
    "prompt = await mcp_client.get_prompt(prompt_name=\"travel-agent\", server_name=\"amadeus\")\n",
    "print(f\"API Status: {prompt}\")"
   ]
  },
  {
   "cell_type": "markdown",
   "metadata": {},
   "source": [
    "## Summary and Best Practices\n",
    "\n",
    "In this notebook, we've built a comprehensive travel booking system that demonstrates the power of Model Context Protocol (MCP) servers and multi-agent architectures:\n",
    "\n",
    "### What We've Accomplished\n",
    "\n",
    "1. **✅ MCP Server Implementation**\n",
    "   - Created a travel booking server using FastMCP\n",
    "   - Implemented tools for flight, hotel, and car rental search\n",
    "   - Added booking creation and management capabilities\n",
    "   - Included resources for airport and destination information\n",
    "\n",
    "2. **✅ AI Travel Agent**\n",
    "   - Built an intelligent agent that uses MCP server tools\n",
    "   - Implemented natural language understanding for travel requests\n",
    "   - Added comprehensive travel planning capabilities\n",
    "\n",
    "3. **✅ Integration Patterns**\n",
    "   - Showed how MCP servers connect with LangGraph agents\n",
    "   - Demonstrated production deployment considerations\n",
    "   - Provided configuration examples for real-world integration\n",
    "\n",
    "### Key Benefits of This Architecture\n",
    "\n",
    "- **🔗 Standardized Integration**: MCP provides a uniform way to connect AI models with external services\n",
    "- **🎯 Specialized Agents**: Different agents can focus on specific tasks while working together\n",
    "- **📈 Scalability**: MCP servers can be deployed independently and scaled as needed\n",
    "- **🔒 Security**: Controlled access to sensitive operations through standardized protocols\n",
    "- **🔄 Reusability**: MCP servers can be used by multiple AI applications\n",
    "\n",
    "### Best Practices for MCP Development\n",
    "\n",
    "1. **Tool Design**\n",
    "   - Keep tools focused on single responsibilities\n",
    "   - Use clear, descriptive names and documentation\n",
    "   - Implement proper error handling and validation\n",
    "   - Return structured data (JSON) for complex responses\n",
    "\n",
    "2. **Security**\n",
    "   - Implement authentication and authorization\n",
    "   - Validate all inputs thoroughly\n",
    "   - Use secure communication protocols\n",
    "   - Audit and log all operations\n",
    "\n",
    "3. **Performance**\n",
    "   - Implement caching for frequently accessed data\n",
    "   - Use connection pooling for database operations\n",
    "   - Consider rate limiting to prevent abuse\n",
    "   - Monitor performance and optimize bottlenecks\n",
    "\n",
    "4. **Agent Coordination**\n",
    "   - Design clear interfaces between agents\n",
    "   - Implement proper state management\n",
    "   - Use supervisor patterns for complex workflows\n",
    "   - Ensure graceful error handling across agents\n",
    "\n",
    "\n",
    "The Model Context Protocol represents a significant advancement in AI application architecture, enabling more modular, scalable, and maintainable systems. Combined with multi-agent patterns, it opens up new possibilities for creating sophisticated AI applications that can handle complex, real-world tasks."
   ]
  }
 ],
 "metadata": {
  "kernelspec": {
   "display_name": "Python 3",
   "language": "python",
   "name": "python3"
  },
  "language_info": {
   "codemirror_mode": {
    "name": "ipython",
    "version": 3
   },
   "file_extension": ".py",
   "mimetype": "text/x-python",
   "name": "python",
   "nbconvert_exporter": "python",
   "pygments_lexer": "ipython3",
   "version": "3.11.4"
  }
 },
 "nbformat": 4,
 "nbformat_minor": 4
}
